{
  "cells": [
    {
      "cell_type": "markdown",
      "metadata": {
        "id": "12URBFa0yULK"
      },
      "source": [
        "# Imports"
      ]
    },
    {
      "cell_type": "code",
      "execution_count": 2,
      "metadata": {
        "id": "sXU99qaCyT8S"
      },
      "outputs": [],
      "source": [
        "import matplotlib.pyplot as plt\n",
        "import numpy as np"
      ]
    },
    {
      "cell_type": "markdown",
      "metadata": {
        "id": "t6NoP81Mf2eb"
      },
      "source": [
        "# Model Imports\n",
        "The model that will be imported will be first those of scikit-learn, then once the actual model will be coded they will be swapped out since they will use the same API.\n",
        "\n",
        "**Note:** It's important to note that the models are being overfitted as we are training with the whole thing and then testing with the same y trained upon! That's a big no-no for real machine learning, but to test the classifier correctness it can do.\n",
        "\n",
        "By Bastien LEUWERS"
      ]
    },
    {
      "cell_type": "code",
      "execution_count": 3,
      "metadata": {
        "id": "EVK7nAklf2eb"
      },
      "outputs": [],
      "source": [
        "# Models Import TODO: replace this with the dll ones once done\n",
        "from sklearn.neural_network import MLPClassifier\n",
        "\n",
        "# 1. First create the classifier by telling which parameters it should have\n",
        "# clf_mlp = MLPClassifier(random_state=1, max_iter=300)\n",
        "\n",
        "# 2. Fit the classifier with the training data\n",
        "# clf_mlp.fit(X_train, y_train)\n",
        "\n",
        "# 3. Predict the y given X\n",
        "# clf_mlp.predict(X_test)\n",
        "\n",
        "# That's all that is needded to have a working classifier\n",
        "\n",
        "# Models Import TODO: replace this with the dll ones once done\n",
        "from sklearn.linear_model import LogisticRegression\n",
        "\n",
        "# 1. first create the classifier for LinearRegression \n",
        "# (no new parameters)\n",
        "# clf_line = LogisticRegression()\n",
        "\n",
        "# 2. Fit the classifier with the training data\n",
        "#clf_line.fit(X_train, y_train)\n",
        "\n",
        "# 3. Predict the y given X\n",
        "# clf_line.predict(X_test)\n",
        "\n",
        "# Models Import TODO: replace this with the dll ones once done\n",
        "from sklearn.linear_model import LinearRegression\n",
        "# 1. first create the classifier for LinearRegression \n",
        "# (no new parameters)\n",
        "# clf_line = LinearRegression()\n",
        "\n",
        "# 2. Fit the classifier with the training data\n",
        "#clf_line.fit(X_train, y_train)\n",
        "\n",
        "# 3. Predict the y given X\n",
        "# clf_line.predict(X_test)\n",
        "\n",
        "# Models Import TODO: replace this with the dll ones once done\n",
        "from sklearn.neural_network import MLPRegressor\n",
        "# Exact same API for both the MLP classifier and the regressor\n",
        "\n",
        "# 1. First create the classifier by telling which parameters it should have\n",
        "# clf_mlp = MLPRegressor(random_state=1, max_iter=300)\n",
        "\n",
        "# 2. Fit the classifier with the training data\n",
        "# clf_mlp.fit(X_train, y_train)\n",
        "\n",
        "# 3. Predict the y given X\n",
        "# clf_mlp.predict(X_test)\n",
        "\n",
        "# Scoring Imports\n",
        "from sklearn.metrics import accuracy_score #classification\n",
        "from sklearn.metrics import r2_score #regression\n",
        "\n",
        "\n"
      ]
    },
    {
      "cell_type": "markdown",
      "metadata": {
        "id": "MlaksdgDxaA6"
      },
      "source": [
        "# Cas de tests, rendu 2"
      ]
    },
    {
      "cell_type": "markdown",
      "metadata": {
        "id": "_qYwTgKqxnkl"
      },
      "source": [
        "## Classification"
      ]
    },
    {
      "cell_type": "markdown",
      "metadata": {
        "id": "-d0zULTsyFhh"
      },
      "source": [
        "### Linear Simple :\n",
        "        Linear Model : OK\n",
        "        MLP (2, 1)   : OK"
      ]
    },
    {
      "cell_type": "code",
      "execution_count": 4,
      "metadata": {
        "id": "EktwRhEMxV2A"
      },
      "outputs": [],
      "source": [
        "# 1. Creation of test data set\n",
        "\n",
        "X = np.array([\n",
        "      [1, 1],\n",
        "      [2, 3],\n",
        "      [3, 3]\n",
        "])\n",
        "Y = np.array([\n",
        "      1,\n",
        "      -1,\n",
        "      -1\n",
        "])"
      ]
    },
    {
      "cell_type": "code",
      "execution_count": 5,
      "metadata": {
        "colab": {
          "base_uri": "https://localhost:8080/"
        },
        "id": "ApQZRa-Af2ee",
        "outputId": "ce6d4d4d-221b-4698-a2d8-189395cbcb37"
      },
      "outputs": [
        {
          "output_type": "stream",
          "name": "stdout",
          "text": [
            "accuracy for MLP classification: 1.0\n",
            "[ 1 -1 -1]\n",
            "accuracy for Logistic Regression classification: 1.0\n",
            "[ 1 -1 -1]\n"
          ]
        },
        {
          "output_type": "stream",
          "name": "stderr",
          "text": [
            "/usr/local/lib/python3.7/dist-packages/sklearn/neural_network/_multilayer_perceptron.py:696: ConvergenceWarning: Stochastic Optimizer: Maximum iterations (100) reached and the optimization hasn't converged yet.\n",
            "  ConvergenceWarning,\n"
          ]
        }
      ],
      "source": [
        "# 2. Training of all classifier\n",
        "\n",
        "# MLP (2,1)\n",
        "clf_mlp = MLPClassifier(random_state=1, hidden_layer_sizes=(2,), solver='sgd', activation='logistic', learning_rate_init=0.1, max_iter=100)\n",
        "\n",
        "# 2. Fit the classifier with the training data\n",
        "clf_mlp.fit(X, Y)\n",
        "\n",
        "# 3. Predict the y given X\n",
        "y_pred = clf_mlp.predict(X)\n",
        "\n",
        "# 4. Calculate accuracy\n",
        "acc = accuracy_score(Y, y_pred)\n",
        "print(f\"accuracy for MLP classification: {acc}\")\n",
        "print(y_pred)\n",
        "\n",
        "\n",
        "# Logistic Regression\n",
        "clf_line = LogisticRegression()\n",
        "\n",
        "# 2. Fit the classifier with the training data\n",
        "clf_line.fit(X, Y)\n",
        "\n",
        "# 3. Predict the y given X\n",
        "y_pred = clf_line.predict(X)\n",
        "\n",
        "# 4. Calculate accuracy\n",
        "acc = accuracy_score(Y, y_pred)\n",
        "print(f\"accuracy for Logistic Regression classification: {acc}\")\n",
        "print(y_pred)\n",
        "\n"
      ]
    },
    {
      "cell_type": "code",
      "execution_count": 6,
      "metadata": {
        "colab": {
          "base_uri": "https://localhost:8080/",
          "height": 282
        },
        "id": "OpWOCJ5ZyDMY",
        "outputId": "d11f9a03-a1bf-4a49-d50d-0def03b556f2"
      },
      "outputs": [
        {
          "output_type": "display_data",
          "data": {
            "text/plain": [
              "<Figure size 432x288 with 1 Axes>"
            ],
            "image/png": "[encoded data removed]"
          },
          "metadata": {
            "needs_background": "light"
          }
        },
        {
          "output_type": "display_data",
          "data": {
            "text/plain": [
              "<Figure size 432x288 with 0 Axes>"
            ]
          },
          "metadata": {}
        }
      ],
      "source": [
        "# 3. Plotting of classifier result (no need for testing)\n",
        "plt.scatter(X[0, 0], X[0, 1], color='blue')\n",
        "plt.scatter(X[1:3,0], X[1:3,1], color='red')\n",
        "plt.show()\n",
        "plt.clf()"
      ]
    },
    {
      "cell_type": "markdown",
      "metadata": {
        "id": "7v8KFue-zmCv"
      },
      "source": [
        "### Linear Multiple :\n",
        "        Linear Model : OK\n",
        "        MLP (2, 1)   : OK"
      ]
    },
    {
      "cell_type": "code",
      "execution_count": 7,
      "metadata": {
        "id": "hZlnpb-qzmCw"
      },
      "outputs": [],
      "source": [
        "# 1. Creation of test data set\n",
        "\n",
        "X = np.concatenate([np.random.random((50,2)) * 0.9 + np.array([1, 1]), np.random.random((50,2)) * 0.9 + np.array([2, 2])])\n",
        "Y = np.concatenate([np.ones((50, 1)), np.ones((50, 1)) * -1.0])"
      ]
    },
    {
      "cell_type": "code",
      "execution_count": 8,
      "metadata": {
        "colab": {
          "base_uri": "https://localhost:8080/"
        },
        "id": "smVkDdi5f2ei",
        "outputId": "774edc09-4316-4cb8-bddd-c3a13b822e4b"
      },
      "outputs": [
        {
          "output_type": "stream",
          "name": "stdout",
          "text": [
            "accuracy for MLP classification: 0.99\n",
            "accuracy for Logistic Regression classification: 1.0\n"
          ]
        },
        {
          "output_type": "stream",
          "name": "stderr",
          "text": [
            "/usr/local/lib/python3.7/dist-packages/sklearn/neural_network/_multilayer_perceptron.py:1109: DataConversionWarning: A column-vector y was passed when a 1d array was expected. Please change the shape of y to (n_samples, ), for example using ravel().\n",
            "  y = column_or_1d(y, warn=True)\n",
            "/usr/local/lib/python3.7/dist-packages/sklearn/neural_network/_multilayer_perceptron.py:696: ConvergenceWarning: Stochastic Optimizer: Maximum iterations (100) reached and the optimization hasn't converged yet.\n",
            "  ConvergenceWarning,\n",
            "/usr/local/lib/python3.7/dist-packages/sklearn/utils/validation.py:993: DataConversionWarning: A column-vector y was passed when a 1d array was expected. Please change the shape of y to (n_samples, ), for example using ravel().\n",
            "  y = column_or_1d(y, warn=True)\n"
          ]
        }
      ],
      "source": [
        "# 2. Training of all classifier\n",
        "\n",
        "# MLP (2,1)\n",
        "clf = MLPClassifier(random_state=1, hidden_layer_sizes=(2,), solver='sgd', activation='logistic', learning_rate_init=0.1, max_iter=100)\n",
        "\n",
        "\n",
        "# 2. Fit the classifier with the training data\n",
        "clf.fit(X, Y)\n",
        "\n",
        "# 3. Predict the y given X\n",
        "y_pred = clf.predict(X)\n",
        "\n",
        "# 4. Calculate accuracy\n",
        "acc = accuracy_score(Y, y_pred)\n",
        "print(f\"accuracy for MLP classification: {acc}\")\n",
        "\n",
        "# Logistic Regression\n",
        "clf_line = LogisticRegression()\n",
        "\n",
        "# 2. Fit the classifier with the training data\n",
        "clf_line.fit(X, Y)\n",
        "\n",
        "# 3. Predict the y given X\n",
        "y_pred = clf_line.predict(X)\n",
        "\n",
        "# 4. Calculate accuracy\n",
        "acc = accuracy_score(Y, y_pred)\n",
        "print(f\"accuracy for Logistic Regression classification: {acc}\")"
      ]
    },
    {
      "cell_type": "code",
      "execution_count": 9,
      "metadata": {
        "colab": {
          "base_uri": "https://localhost:8080/",
          "height": 282
        },
        "id": "a6e8GdL_zmCx",
        "outputId": "c556b5cb-6d9a-4c7a-f052-98f6860d9607"
      },
      "outputs": [
        {
          "output_type": "display_data",
          "data": {
            "text/plain": [
              "<Figure size 432x288 with 1 Axes>"
            ],
            "image/png": "[encoded data removed]"
          },
          "metadata": {
            "needs_background": "light"
          }
        },
        {
          "output_type": "display_data",
          "data": {
            "text/plain": [
              "<Figure size 432x288 with 0 Axes>"
            ]
          },
          "metadata": {}
        }
      ],
      "source": [
        "# 3. Plotting of classifier result (no need for testing)\n",
        "\n",
        "plt.scatter(X[0:50, 0], X[0:50, 1], color='blue')\n",
        "plt.scatter(X[50:100,0], X[50:100,1], color='red')\n",
        "plt.show()\n",
        "plt.clf()"
      ]
    },
    {
      "cell_type": "markdown",
      "metadata": {
        "id": "gZlONmsp1T_W"
      },
      "source": [
        "### XOR :\n",
        "        Linear Model    : KO\n",
        "        MLP (2, 2, 1)   : OK"
      ]
    },
    {
      "cell_type": "code",
      "execution_count": 11,
      "metadata": {
        "id": "673wfC9U1T_W"
      },
      "outputs": [],
      "source": [
        "# 1. Creation of test data set\n",
        "\n",
        "X = np.array([[1, 0], [0, 1], [0, 0], [1, 1]])\n",
        "Y = np.array([1, 1, -1, -1])"
      ]
    },
    {
      "cell_type": "code",
      "execution_count": 12,
      "metadata": {
        "colab": {
          "base_uri": "https://localhost:8080/"
        },
        "id": "uMajaw4Yf2ek",
        "outputId": "ebd81997-b4d3-4c4c-9214-96d6c5f0aab6"
      },
      "outputs": [
        {
          "output_type": "stream",
          "name": "stdout",
          "text": [
            "accuracy for MLP classification: 1.0\n",
            "[ 1  1 -1 -1]\n",
            "accuracy for Logistic Regression classification: 0.5\n"
          ]
        },
        {
          "output_type": "stream",
          "name": "stderr",
          "text": [
            "/usr/local/lib/python3.7/dist-packages/sklearn/neural_network/_multilayer_perceptron.py:696: ConvergenceWarning: Stochastic Optimizer: Maximum iterations (1000) reached and the optimization hasn't converged yet.\n",
            "  ConvergenceWarning,\n"
          ]
        }
      ],
      "source": [
        "# 2. Training of all classifier\n",
        "\n",
        "# MLP (2,2,1)\n",
        "clf = MLPClassifier(random_state=1, hidden_layer_sizes=(2,2), solver='sgd', activation='logistic', learning_rate_init=0.3, max_iter=1000, n_iter_no_change=20000)\n",
        "\n",
        "\n",
        "# 2. Fit the classifier with the training data\n",
        "clf.fit(X, Y)\n",
        "\n",
        "# 3. Predict the y given X\n",
        "y_pred = clf.predict(X)\n",
        "\n",
        "# 4. Calculate accuracy\n",
        "acc = accuracy_score(Y, y_pred)\n",
        "print(f\"accuracy for MLP classification: {acc}\")\n",
        "print(y_pred)\n",
        "\n",
        "# Logistic Regression\n",
        "clf_line = LogisticRegression()\n",
        "\n",
        "# 2. Fit the classifier with the training data\n",
        "clf_line.fit(X, Y)\n",
        "\n",
        "# 3. Predict the y given X\n",
        "y_pred = clf_line.predict(X)\n",
        "\n",
        "# 4. Calculate accuracy\n",
        "acc = accuracy_score(Y, y_pred)\n",
        "print(f\"accuracy for Logistic Regression classification: {acc}\")"
      ]
    },
    {
      "cell_type": "code",
      "execution_count": 13,
      "metadata": {
        "colab": {
          "base_uri": "https://localhost:8080/",
          "height": 282
        },
        "id": "uA3E-h801T_Y",
        "outputId": "df1cbe60-21b2-4723-bad5-2a59e9ee3aa2"
      },
      "outputs": [
        {
          "output_type": "display_data",
          "data": {
            "text/plain": [
              "<Figure size 432x288 with 1 Axes>"
            ],
            "image/png": "[encoded data removed]"
          },
          "metadata": {
            "needs_background": "light"
          }
        },
        {
          "output_type": "display_data",
          "data": {
            "text/plain": [
              "<Figure size 432x288 with 0 Axes>"
            ]
          },
          "metadata": {}
        }
      ],
      "source": [
        "# 3. Plotting of classifier result (no need for testing)\n",
        "\n",
        "plt.scatter(X[0:2, 0], X[0:2, 1], color='blue')\n",
        "plt.scatter(X[2:4,0], X[2:4,1], color='red')\n",
        "plt.show()\n",
        "plt.clf()"
      ]
    },
    {
      "cell_type": "markdown",
      "metadata": {
        "id": "5qxkXVo02MpM"
      },
      "source": [
        "\n",
        "\n",
        "\n",
        "\n",
        "\n",
        "\n",
        "\n",
        "\n",
        "\n",
        "\n",
        "\n",
        "\n",
        "\n",
        "\n",
        "\n",
        "\n",
        "\n",
        "\n",
        "\n",
        "\n",
        "\n",
        "\n",
        "\n",
        "\n",
        "\n",
        "\n",
        "\n",
        "\n",
        "\n",
        "\n",
        "\n",
        "\n",
        "\n",
        "\n",
        "\n",
        "\n",
        "\n",
        "\n",
        "\n",
        "\n",
        "\n",
        "\n",
        "\n",
        "\n",
        "\n",
        "\n",
        "\n",
        "\n",
        "\n",
        "\n",
        "\n",
        "\n",
        "\n",
        "\n",
        "\n",
        "\n",
        "\n",
        "\n",
        "\n",
        "\n",
        "\n",
        "\n",
        "\n",
        "\n",
        "\n",
        "\n",
        "\n",
        "\n",
        "\n",
        "\n",
        "\n",
        "\n",
        "\n",
        "\n",
        "\n",
        "\n",
        "\n",
        "\n",
        "\n",
        "\n",
        "\n",
        "\n",
        "\n",
        "\n",
        "\n",
        "\n",
        "\n",
        "\n",
        "### Cross :\n",
        "        Linear Model    : KO\n",
        "        MLP (2, 4, 1)   : OK"
      ]
    },
    {
      "cell_type": "code",
      "execution_count": 14,
      "metadata": {
        "id": "7kkrrfnX2MpM"
      },
      "outputs": [],
      "source": [
        "# 1. Creation of test data set\n",
        "\n",
        "X = np.random.random((500, 2)) * 2.0 - 1.0\n",
        "Y = np.array([1 if abs(p[0]) <= 0.3 or abs(p[1]) <= 0.3 else -1 for p in X])"
      ]
    },
    {
      "cell_type": "code",
      "execution_count": 15,
      "metadata": {
        "colab": {
          "base_uri": "https://localhost:8080/"
        },
        "id": "0ITo7SAyf2en",
        "outputId": "e6cb7c2f-7697-4ec4-f8ec-dc4667d5cfad"
      },
      "outputs": [
        {
          "output_type": "stream",
          "name": "stdout",
          "text": [
            "accuracy for MLP classification: 0.786\n",
            "accuracy for Logistic Regression classification: 0.534\n"
          ]
        }
      ],
      "source": [
        "# 2. Training of all classifier\n",
        "\n",
        "# MLP (2,4,1)\n",
        "# Not bad at 78% accuracy, but there is clearly longer training required here\n",
        "# TODO: Train this longer and check if it ends up converging\n",
        "clf = MLPClassifier(random_state=1, hidden_layer_sizes=(2,4), solver='sgd', activation='logistic', learning_rate_init=0.1, max_iter=100000, n_iter_no_change=10000)\n",
        "\n",
        "# 2. Fit the classifier with the training data\n",
        "clf.fit(X, Y)\n",
        "\n",
        "# 3. Predict the y given X\n",
        "y_pred = clf.predict(X)\n",
        "\n",
        "# 4. Calculate accuracy\n",
        "acc = accuracy_score(Y, y_pred)\n",
        "print(f\"accuracy for MLP classification: {acc}\")\n",
        "clf.n_iter_\n",
        "\n",
        "# Logistic Regression\n",
        "clf_line = LogisticRegression()\n",
        "\n",
        "# 2. Fit the classifier with the training data\n",
        "clf_line.fit(X, Y)\n",
        "\n",
        "# 3. Predict the y given X\n",
        "y_pred = clf_line.predict(X)\n",
        "\n",
        "# 4. Calculate accuracy\n",
        "acc = accuracy_score(Y, y_pred)\n",
        "print(f\"accuracy for Logistic Regression classification: {acc}\")"
      ]
    },
    {
      "cell_type": "code",
      "execution_count": 16,
      "metadata": {
        "colab": {
          "base_uri": "https://localhost:8080/",
          "height": 282
        },
        "id": "zVBAE2fY2MpO",
        "outputId": "57957385-c436-44ac-dfec-3d849f3e4669"
      },
      "outputs": [
        {
          "output_type": "display_data",
          "data": {
            "text/plain": [
              "<Figure size 432x288 with 1 Axes>"
            ],
            "image/png": "[encoded data removed]"
          },
          "metadata": {
            "needs_background": "light"
          }
        },
        {
          "output_type": "display_data",
          "data": {
            "text/plain": [
              "<Figure size 432x288 with 0 Axes>"
            ]
          },
          "metadata": {}
        }
      ],
      "source": [
        "# 3. Plotting of classifier result (no need for testing)\n",
        "\n",
        "plt.scatter(np.array(list(map(lambda elt : elt[1], filter(lambda c: Y[c[0]] == 1, enumerate(X)))))[:,0], np.array(list(map(lambda elt : elt[1], filter(lambda c: Y[c[0]] == 1, enumerate(X)))))[:,1], color='blue')\n",
        "plt.scatter(np.array(list(map(lambda elt : elt[1], filter(lambda c: Y[c[0]] == -1, enumerate(X)))))[:,0], np.array(list(map(lambda elt : elt[1], filter(lambda c: Y[c[0]] == -1, enumerate(X)))))[:,1], color='red')\n",
        "plt.show()\n",
        "plt.clf()"
      ]
    },
    {
      "cell_type": "markdown",
      "metadata": {
        "id": "v4hhnYge928d"
      },
      "source": [
        "### Multi Linear 3 classes :\n",
        "        Linear Model x3 : OK\n",
        "        MLP (2, 3)      : OK"
      ]
    },
    {
      "cell_type": "code",
      "execution_count": 17,
      "metadata": {
        "id": "IvhvqkDw928q"
      },
      "outputs": [],
      "source": [
        "# 1. Creation of test data set\n",
        "\n",
        "X = np.random.random((500, 2)) * 2.0 - 1.0\n",
        "Y = np.array([[1, 0, 0] if -p[0] - p[1] - 0.5 > 0 and p[1] < 0 and p[0] - p[1] - 0.5 < 0 else \n",
        "              [0, 1, 0] if -p[0] - p[1] - 0.5 < 0 and p[1] > 0 and p[0] - p[1] - 0.5 < 0 else \n",
        "              [0, 0, 1] if -p[0] - p[1] - 0.5 < 0 and p[1] < 0 and p[0] - p[1] - 0.5 > 0 else \n",
        "              [0, 0, 0]for p in X])\n",
        "\n",
        "X = X[[not np.all(arr == [0, 0, 0]) for arr in Y]]\n",
        "Y = Y[[not np.all(arr == [0, 0, 0]) for arr in Y]]\n",
        "\n",
        "linear_Y = [0*y[0] + 1*y[1] + 2*y[2] for y in Y] # need to convert this for the linear model"
      ]
    },
    {
      "cell_type": "code",
      "execution_count": 18,
      "metadata": {
        "colab": {
          "base_uri": "https://localhost:8080/"
        },
        "id": "Mi0b3M64f2eq",
        "outputId": "f4179f86-f3d4-41c6-a67d-0207bb3eb0a6"
      },
      "outputs": [
        {
          "output_type": "stream",
          "name": "stdout",
          "text": [
            "accuracy for MLP classification: 0.9950980392156863\n",
            "accuracy for Logistic Regression classification: 0.9975490196078431\n"
          ]
        },
        {
          "output_type": "stream",
          "name": "stderr",
          "text": [
            "/usr/local/lib/python3.7/dist-packages/sklearn/neural_network/_multilayer_perceptron.py:696: ConvergenceWarning: Stochastic Optimizer: Maximum iterations (1000) reached and the optimization hasn't converged yet.\n",
            "  ConvergenceWarning,\n"
          ]
        }
      ],
      "source": [
        "# 2. Training of all classifier\n",
        "\n",
        "# MLP (2,3)\n",
        "clf = MLPClassifier(random_state=1, hidden_layer_sizes=(2), solver='sgd', activation='logistic', learning_rate_init=0.1, max_iter=1000, n_iter_no_change=100)\n",
        "\n",
        "# 2. Fit the classifier with the training data\n",
        "clf.fit(X, Y)\n",
        "\n",
        "# 3. Predict the y given X\n",
        "y_pred = clf.predict(X)\n",
        "\n",
        "# 4. Calculate accuracy\n",
        "acc = accuracy_score(Y, y_pred)\n",
        "print(f\"accuracy for MLP classification: {acc}\")\n",
        "\n",
        "# Logistic Regression\n",
        "clf_line = LogisticRegression()\n",
        "\n",
        "# 2. Fit the classifier with the training data\n",
        "clf_line.fit(X, linear_Y)\n",
        "\n",
        "# 3. Predict the y given X\n",
        "y_pred = clf_line.predict(X)\n",
        "\n",
        "# 4. Calculate accuracy\n",
        "acc = accuracy_score(linear_Y, y_pred)\n",
        "print(f\"accuracy for Logistic Regression classification: {acc}\")"
      ]
    },
    {
      "cell_type": "code",
      "execution_count": 19,
      "metadata": {
        "colab": {
          "base_uri": "https://localhost:8080/",
          "height": 282
        },
        "id": "4aqzcUlJ928s",
        "outputId": "eb78798f-e3ea-494b-f0c6-ff63a60971e7"
      },
      "outputs": [
        {
          "output_type": "display_data",
          "data": {
            "text/plain": [
              "<Figure size 432x288 with 1 Axes>"
            ],
            "image/png": "[encoded data removed]"
          },
          "metadata": {
            "needs_background": "light"
          }
        },
        {
          "output_type": "display_data",
          "data": {
            "text/plain": [
              "<Figure size 432x288 with 0 Axes>"
            ]
          },
          "metadata": {}
        }
      ],
      "source": [
        "# 3. Plotting of classifier result (no need for testing)\n",
        "\n",
        "plt.scatter(np.array(list(map(lambda elt : elt[1], filter(lambda c: Y[c[0]][0] == 1, enumerate(X)))))[:,0], np.array(list(map(lambda elt : elt[1], filter(lambda c: Y[c[0]][0] == 1, enumerate(X)))))[:,1], color='blue')\n",
        "plt.scatter(np.array(list(map(lambda elt : elt[1], filter(lambda c: Y[c[0]][1] == 1, enumerate(X)))))[:,0], np.array(list(map(lambda elt : elt[1], filter(lambda c: Y[c[0]][1] == 1, enumerate(X)))))[:,1], color='red')\n",
        "plt.scatter(np.array(list(map(lambda elt : elt[1], filter(lambda c: Y[c[0]][2] == 1, enumerate(X)))))[:,0], np.array(list(map(lambda elt : elt[1], filter(lambda c: Y[c[0]][2] == 1, enumerate(X)))))[:,1], color='green')\n",
        "plt.show()\n",
        "plt.clf()"
      ]
    },
    {
      "cell_type": "markdown",
      "metadata": {
        "id": "uKFBx2m066i2"
      },
      "source": [
        "### Multi Cross :\n",
        "        Linear Model x3 : KO\n",
        "        MLP (2, ?, ?, 3): OK"
      ]
    },
    {
      "cell_type": "code",
      "execution_count": 20,
      "metadata": {
        "id": "0ZE8OW-K66i5"
      },
      "outputs": [],
      "source": [
        "# 1. Creation of test data set\n",
        "\n",
        "X = np.random.random((1000, 2)) * 2.0 - 1.0\n",
        "Y = np.array([[1, 0, 0] if abs(p[0] % 0.5) <= 0.25 and abs(p[1] % 0.5) > 0.25 else [0, 1, 0] if abs(p[0] % 0.5) > 0.25 and abs(p[1] % 0.5) <= 0.25 else [0, 0, 1] for p in X])\n",
        "\n",
        "linear_Y = [0*y[0] + 1*y[1] + 2*y[2] for y in Y] # need to convert this for the linear model"
      ]
    },
    {
      "cell_type": "code",
      "execution_count": 21,
      "metadata": {
        "colab": {
          "base_uri": "https://localhost:8080/"
        },
        "id": "UfRa8OnKf2es",
        "outputId": "c7dd9b36-41dd-4229-b1a4-b7f255c067f0"
      },
      "outputs": [
        {
          "output_type": "stream",
          "name": "stdout",
          "text": [
            "accuracy for MLP classification: 0.018\n",
            "accuracy for Logistic Regression classification: 0.496\n"
          ]
        },
        {
          "output_type": "stream",
          "name": "stderr",
          "text": [
            "/usr/local/lib/python3.7/dist-packages/sklearn/neural_network/_multilayer_perceptron.py:696: ConvergenceWarning: Stochastic Optimizer: Maximum iterations (1000) reached and the optimization hasn't converged yet.\n",
            "  ConvergenceWarning,\n"
          ]
        }
      ],
      "source": [
        "# 2. Training of all classifier\n",
        "\n",
        "# MLP (2,?,?,3)\n",
        "# TODO: This one kinda of suck still will need to boost it up it's capacity and number of iterations to make it overfit\n",
        "clf = MLPClassifier(random_state=1, hidden_layer_sizes=(2,20,), solver='sgd', activation='logistic', learning_rate_init=0.1, max_iter=1000, n_iter_no_change=1000)\n",
        "\n",
        "# 2. Fit the classifier with the training data\n",
        "clf.fit(X, Y)\n",
        "\n",
        "# 3. Predict the y given X\n",
        "y_pred = clf.predict(X)\n",
        "\n",
        "# 4. Calculate accuracy\n",
        "acc = accuracy_score(Y, y_pred)\n",
        "print(f\"accuracy for MLP classification: {acc}\")\n",
        "\n",
        "# Logistic Regression\n",
        "clf_line = LogisticRegression()\n",
        "\n",
        "# 2. Fit the classifier with the training data\n",
        "clf_line.fit(X, linear_Y)\n",
        "\n",
        "# 3. Predict the y given X\n",
        "y_pred = clf_line.predict(X)\n",
        "\n",
        "# 4. Calculate accuracy\n",
        "acc = accuracy_score(linear_Y, y_pred)\n",
        "print(f\"accuracy for Logistic Regression classification: {acc}\")"
      ]
    },
    {
      "cell_type": "code",
      "execution_count": 22,
      "metadata": {
        "colab": {
          "base_uri": "https://localhost:8080/",
          "height": 282
        },
        "id": "55U95UMS66i6",
        "outputId": "0c2e65cd-f754-41a9-92cf-689b6d55e1d1"
      },
      "outputs": [
        {
          "output_type": "display_data",
          "data": {
            "text/plain": [
              "<Figure size 432x288 with 1 Axes>"
            ],
            "image/png": "[encoded data removed]"
          },
          "metadata": {
            "needs_background": "light"
          }
        },
        {
          "output_type": "display_data",
          "data": {
            "text/plain": [
              "<Figure size 432x288 with 0 Axes>"
            ]
          },
          "metadata": {}
        }
      ],
      "source": [
        "# 3. Plotting of classifier result (no need for testing)\n",
        "\n",
        "plt.scatter(np.array(list(map(lambda elt : elt[1], filter(lambda c: Y[c[0]][0] == 1, enumerate(X)))))[:,0], np.array(list(map(lambda elt : elt[1], filter(lambda c: Y[c[0]][0] == 1, enumerate(X)))))[:,1], color='blue')\n",
        "plt.scatter(np.array(list(map(lambda elt : elt[1], filter(lambda c: Y[c[0]][1] == 1, enumerate(X)))))[:,0], np.array(list(map(lambda elt : elt[1], filter(lambda c: Y[c[0]][1] == 1, enumerate(X)))))[:,1], color='red')\n",
        "plt.scatter(np.array(list(map(lambda elt : elt[1], filter(lambda c: Y[c[0]][2] == 1, enumerate(X)))))[:,0], np.array(list(map(lambda elt : elt[1], filter(lambda c: Y[c[0]][2] == 1, enumerate(X)))))[:,1], color='green')\n",
        "plt.show()\n",
        "plt.clf()"
      ]
    },
    {
      "cell_type": "markdown",
      "metadata": {
        "id": "zyrivJMK_WOQ"
      },
      "source": [
        "## Régression"
      ]
    },
    {
      "cell_type": "markdown",
      "metadata": {
        "id": "p4EB787A_WOR"
      },
      "source": [
        "### Linear Simple 2D :\n",
        "        Linear Model : OK\n",
        "        MLP (1, 1)   : OK"
      ]
    },
    {
      "cell_type": "code",
      "execution_count": 23,
      "metadata": {
        "id": "dan93I7A_WOR"
      },
      "outputs": [],
      "source": [
        "# 1. Creation of test data set\n",
        "\n",
        "X = np.array([\n",
        "      [1],\n",
        "      [2]\n",
        "])\n",
        "Y = np.array([\n",
        "      2,\n",
        "      3\n",
        "])"
      ]
    },
    {
      "cell_type": "code",
      "execution_count": 24,
      "metadata": {
        "colab": {
          "base_uri": "https://localhost:8080/"
        },
        "id": "T2seXOVBf2et",
        "outputId": "8c125104-e50e-4340-c829-18eada324cb9"
      },
      "outputs": [
        {
          "output_type": "stream",
          "name": "stdout",
          "text": [
            "R^2 for Linear Regression: 1.0\n",
            "R^2 for MLP Regression: 0.9477770751147795\n"
          ]
        },
        {
          "output_type": "stream",
          "name": "stderr",
          "text": [
            "/usr/local/lib/python3.7/dist-packages/sklearn/neural_network/_multilayer_perceptron.py:696: ConvergenceWarning: Stochastic Optimizer: Maximum iterations (1000) reached and the optimization hasn't converged yet.\n",
            "  ConvergenceWarning,\n"
          ]
        }
      ],
      "source": [
        "# 2. Training of the regressor\n",
        "\n",
        "# Linear Regression\n",
        "clf_line = LinearRegression()\n",
        "\n",
        "# 2. Fit the classifier with the training data\n",
        "clf_line.fit(X, Y)\n",
        "\n",
        "# 3. Predict the y given X\n",
        "y_pred = clf_line.predict(X)\n",
        "\n",
        "# 4. Calculate R^2\n",
        "r2 = r2_score(Y, y_pred)\n",
        "print(f\"R^2 for Linear Regression: {r2}\")\n",
        "\n",
        "\n",
        "# MLP Regressor\n",
        "# MLP (1,1)\n",
        "clf_mlp = MLPRegressor(random_state=1, hidden_layer_sizes=(1,), solver='sgd', activation='logistic', learning_rate_init=0.01, max_iter=1000, n_iter_no_change=1000)\n",
        "\n",
        "# 2. Fit the classifier with the training data\n",
        "clf_mlp.fit(X, Y)\n",
        "\n",
        "# 3. Predict the y given X\n",
        "y_pred = clf_mlp.predict(X)\n",
        "\n",
        "# 4. Calculate R^2\n",
        "r2 = r2_score(Y, y_pred)\n",
        "print(f\"R^2 for MLP Regression: {r2}\")"
      ]
    },
    {
      "cell_type": "code",
      "execution_count": 25,
      "metadata": {
        "colab": {
          "base_uri": "https://localhost:8080/",
          "height": 282
        },
        "id": "6vHbCksm_sQU",
        "outputId": "9a2a8bff-1f32-436a-87d7-b42b8ed3799f"
      },
      "outputs": [
        {
          "output_type": "display_data",
          "data": {
            "text/plain": [
              "<Figure size 432x288 with 1 Axes>"
            ],
            "image/png": "[encoded data removed]"
          },
          "metadata": {
            "needs_background": "light"
          }
        },
        {
          "output_type": "display_data",
          "data": {
            "text/plain": [
              "<Figure size 432x288 with 0 Axes>"
            ]
          },
          "metadata": {}
        }
      ],
      "source": [
        "# 3. Plotting of classifier result (no need for testing)\n",
        "\n",
        "plt.scatter(X,Y)\n",
        "plt.show()\n",
        "plt.clf()"
      ]
    },
    {
      "cell_type": "markdown",
      "metadata": {
        "id": "CkFb79fq_6ci"
      },
      "source": [
        "### Non Linear Simple 2D :\n",
        "        Linear Model    : OK\n",
        "        MLP (1, ?, 1)   : OK"
      ]
    },
    {
      "cell_type": "code",
      "execution_count": 26,
      "metadata": {
        "id": "sZqi1Yy3_6cj"
      },
      "outputs": [],
      "source": [
        "# 1. Creation of test data set\n",
        "\n",
        "X = np.array([\n",
        "      [1],\n",
        "      [2],\n",
        "      [3]\n",
        "])\n",
        "Y = np.array([\n",
        "      2,\n",
        "      3,\n",
        "      2.5\n",
        "])"
      ]
    },
    {
      "cell_type": "code",
      "execution_count": 27,
      "metadata": {
        "colab": {
          "base_uri": "https://localhost:8080/"
        },
        "id": "L3A9_hLZf2ey",
        "outputId": "bdcc206e-3fc4-4772-fcc0-026751452f12"
      },
      "outputs": [
        {
          "output_type": "stream",
          "name": "stdout",
          "text": [
            "R^2 for Linear Regression classification: 0.25000000000000044\n",
            "R^2 for MLP Regression: 0.7243893641904664\n",
            "[2.01642282 2.72971814 2.75393568]\n"
          ]
        },
        {
          "output_type": "stream",
          "name": "stderr",
          "text": [
            "/usr/local/lib/python3.7/dist-packages/sklearn/neural_network/_multilayer_perceptron.py:696: ConvergenceWarning: Stochastic Optimizer: Maximum iterations (10000) reached and the optimization hasn't converged yet.\n",
            "  ConvergenceWarning,\n"
          ]
        }
      ],
      "source": [
        "# 2. Training of the regressors\n",
        "\n",
        "# Linear Regression\n",
        "clf_line = LinearRegression()\n",
        "\n",
        "# 2. Fit the classifier with the training data\n",
        "clf_line.fit(X, Y)\n",
        "\n",
        "# 3. Predict the y given X\n",
        "y_pred = clf_line.predict(X)\n",
        "\n",
        "# 4. Calculate accuracy\n",
        "r2 = r2_score(Y, y_pred)\n",
        "print(f\"R^2 for Linear Regression classification: {r2}\")\n",
        "\n",
        "# MLP Regressor\n",
        "# MLP (1,100)\n",
        "clf_mlp = MLPRegressor(random_state=1, hidden_layer_sizes=(1,100), solver='sgd', activation='logistic', learning_rate_init=0.01, max_iter=10000, n_iter_no_change=10000)\n",
        "\n",
        "# 2. Fit the classifier with the training data\n",
        "clf_mlp.fit(X, Y)\n",
        "\n",
        "# 3. Predict the y given X\n",
        "y_pred = clf_mlp.predict(X)\n",
        "\n",
        "# 4. Calculate R^2\n",
        "r2 = r2_score(Y, y_pred)\n",
        "print(f\"R^2 for MLP Regression: {r2}\")\n",
        "print(y_pred)"
      ]
    },
    {
      "cell_type": "code",
      "execution_count": 28,
      "metadata": {
        "colab": {
          "base_uri": "https://localhost:8080/",
          "height": 282
        },
        "id": "NSqXDh6c_6ck",
        "outputId": "6e2d8b10-bf8d-45f0-e074-a51369e5b334"
      },
      "outputs": [
        {
          "output_type": "display_data",
          "data": {
            "text/plain": [
              "<Figure size 432x288 with 1 Axes>"
            ],
            "image/png": "[encoded data removed]"
          },
          "metadata": {
            "needs_background": "light"
          }
        },
        {
          "output_type": "display_data",
          "data": {
            "text/plain": [
              "<Figure size 432x288 with 0 Axes>"
            ]
          },
          "metadata": {}
        }
      ],
      "source": [
        "# 3. Plotting of classifier result (no need for testing)\n",
        "\n",
        "plt.scatter(X,Y)\n",
        "plt.show()\n",
        "plt.clf()"
      ]
    },
    {
      "cell_type": "markdown",
      "metadata": {
        "id": "WT1s5lZxAJuL"
      },
      "source": [
        "### Linear Simple 3D :\n",
        "        Linear Model    : OK\n",
        "        MLP (2, 1)      : OK"
      ]
    },
    {
      "cell_type": "code",
      "execution_count": 29,
      "metadata": {
        "id": "KL_IanGMAJuM"
      },
      "outputs": [],
      "source": [
        "# 1. Creation of test data set\n",
        "\n",
        "X = np.array([\n",
        "      [1, 1],\n",
        "      [2, 2],\n",
        "      [3, 1]\n",
        "])\n",
        "Y = np.array([\n",
        "      2,\n",
        "      3,\n",
        "      2.5\n",
        "])"
      ]
    },
    {
      "cell_type": "code",
      "execution_count": 30,
      "metadata": {
        "colab": {
          "base_uri": "https://localhost:8080/"
        },
        "id": "aR6b9FW2f2ez",
        "outputId": "dafc0b5c-e845-42ca-967b-0cc261d52f79"
      },
      "outputs": [
        {
          "output_type": "stream",
          "name": "stdout",
          "text": [
            "R^2 for Linear Regression classification: 1.0\n",
            "R^2 for MLP Regression: 0.9999986010600318\n"
          ]
        },
        {
          "output_type": "stream",
          "name": "stderr",
          "text": [
            "/usr/local/lib/python3.7/dist-packages/sklearn/neural_network/_multilayer_perceptron.py:696: ConvergenceWarning: Stochastic Optimizer: Maximum iterations (3000) reached and the optimization hasn't converged yet.\n",
            "  ConvergenceWarning,\n"
          ]
        }
      ],
      "source": [
        "# 2. Training of the regressors\n",
        "\n",
        "# Linear Regression\n",
        "clf_line = LinearRegression()\n",
        "\n",
        "# 2. Fit the classifier with the training data\n",
        "clf_line.fit(X, Y)\n",
        "\n",
        "# 3. Predict the y given X\n",
        "y_pred = clf_line.predict(X)\n",
        "\n",
        "# 4. Calculate accuracy\n",
        "r2 = r2_score(Y, y_pred)\n",
        "print(f\"R^2 for Linear Regression classification: {r2}\")\n",
        "\n",
        "# MLP Regressor\n",
        "# MLP (2,1)\n",
        "clf_mlp = MLPRegressor(random_state=1, hidden_layer_sizes=(2,), solver='sgd', activation='logistic', learning_rate_init=0.01, max_iter=3000, n_iter_no_change=3000)\n",
        "\n",
        "# 2. Fit the classifier with the training data\n",
        "clf_mlp.fit(X, Y)\n",
        "\n",
        "# 3. Predict the y given X\n",
        "y_pred = clf_mlp.predict(X)\n",
        "\n",
        "# 4. Calculate R^2\n",
        "r2 = r2_score(Y, y_pred)\n",
        "print(f\"R^2 for MLP Regression: {r2}\")\n"
      ]
    },
    {
      "cell_type": "code",
      "execution_count": 31,
      "metadata": {
        "colab": {
          "base_uri": "https://localhost:8080/",
          "height": 336
        },
        "id": "91dQpMIzAJuO",
        "outputId": "d70bd959-0a08-43bb-a7d6-8e50009d95d4"
      },
      "outputs": [
        {
          "output_type": "display_data",
          "data": {
            "text/plain": [
              "<Figure size 432x288 with 1 Axes>"
            ],
            "image/png": "[encoded data removed]"
          },
          "metadata": {
            "needs_background": "light"
          }
        },
        {
          "output_type": "display_data",
          "data": {
            "text/plain": [
              "<Figure size 432x288 with 0 Axes>"
            ]
          },
          "metadata": {}
        }
      ],
      "source": [
        "# 3. Plotting of classifier result (no need for testing)\n",
        "\n",
        "from mpl_toolkits.mplot3d import Axes3D\n",
        "fig = plt.figure()\n",
        "ax = Axes3D(fig)\n",
        "ax.scatter(X[:,0],X[:,1],Y)\n",
        "plt.show()\n",
        "plt.clf()"
      ]
    },
    {
      "cell_type": "markdown",
      "metadata": {
        "id": "kO361TllBqbm"
      },
      "source": [
        "### Linear Tricky 3D :\n",
        "        Linear Model    : OK\n",
        "        MLP (2, 1)      : OK"
      ]
    },
    {
      "cell_type": "code",
      "execution_count": 32,
      "metadata": {
        "id": "nR_i7qLxBqbm"
      },
      "outputs": [],
      "source": [
        "# 1. Creation of test data set\n",
        "\n",
        "X = np.array([\n",
        "      [1, 1],\n",
        "      [2, 2],\n",
        "      [3, 3]\n",
        "])\n",
        "Y = np.array([\n",
        "      1,\n",
        "      2,\n",
        "      3\n",
        "])"
      ]
    },
    {
      "cell_type": "code",
      "execution_count": 33,
      "metadata": {
        "colab": {
          "base_uri": "https://localhost:8080/"
        },
        "id": "eY5SR9eyf2e0",
        "outputId": "0a99f624-c178-42bc-fe6e-95b1068d5eef"
      },
      "outputs": [
        {
          "output_type": "stream",
          "name": "stdout",
          "text": [
            "R^2 for Linear Regression classification: 1.0\n",
            "R^2 for MLP Regression: 0.9998905023377544\n"
          ]
        },
        {
          "output_type": "stream",
          "name": "stderr",
          "text": [
            "/usr/local/lib/python3.7/dist-packages/sklearn/neural_network/_multilayer_perceptron.py:696: ConvergenceWarning: Stochastic Optimizer: Maximum iterations (3000) reached and the optimization hasn't converged yet.\n",
            "  ConvergenceWarning,\n"
          ]
        }
      ],
      "source": [
        "# 2. Training of the regressors\n",
        "\n",
        "# Linear Regression\n",
        "clf_line = LinearRegression()\n",
        "\n",
        "# 2. Fit the classifier with the training data\n",
        "clf_line.fit(X, Y)\n",
        "\n",
        "# 3. Predict the y given X\n",
        "y_pred = clf_line.predict(X)\n",
        "\n",
        "# 4. Calculate accuracy\n",
        "r2 = r2_score(Y, y_pred)\n",
        "print(f\"R^2 for Linear Regression classification: {r2}\")\n",
        "\n",
        "# MLP Regressor\n",
        "# MLP (2,1)\n",
        "clf_mlp = MLPRegressor(random_state=1, hidden_layer_sizes=(2,), solver='sgd', activation='logistic', learning_rate_init=0.01, max_iter=3000, n_iter_no_change=3000)\n",
        "\n",
        "# 2. Fit the classifier with the training data\n",
        "clf_mlp.fit(X, Y)\n",
        "\n",
        "# 3. Predict the y given X\n",
        "y_pred = clf_mlp.predict(X)\n",
        "\n",
        "# 4. Calculate R^2\n",
        "r2 = r2_score(Y, y_pred)\n",
        "print(f\"R^2 for MLP Regression: {r2}\")\n"
      ]
    },
    {
      "cell_type": "code",
      "execution_count": 34,
      "metadata": {
        "colab": {
          "base_uri": "https://localhost:8080/",
          "height": 336
        },
        "id": "dHriVYrKBqbo",
        "outputId": "8ce4c0a0-c845-4e8e-fdb8-32e016e1972f"
      },
      "outputs": [
        {
          "output_type": "display_data",
          "data": {
            "text/plain": [
              "<Figure size 432x288 with 1 Axes>"
            ],
            "image/png": "[encoded data removed]"
          },
          "metadata": {
            "needs_background": "light"
          }
        },
        {
          "output_type": "display_data",
          "data": {
            "text/plain": [
              "<Figure size 432x288 with 0 Axes>"
            ]
          },
          "metadata": {}
        }
      ],
      "source": [
        "# 3. Plotting of classifier result (no need for testing)\n",
        "\n",
        "from mpl_toolkits.mplot3d import Axes3D\n",
        "fig = plt.figure()\n",
        "ax = Axes3D(fig)\n",
        "ax.scatter(X[:,0],X[:,1],Y)\n",
        "plt.show()\n",
        "plt.clf()"
      ]
    },
    {
      "cell_type": "markdown",
      "metadata": {
        "id": "H_h0_vtCBEzk"
      },
      "source": [
        "### Non Linear Simple 3D :\n",
        "        Linear Model       : KO\n",
        "        MLP (2, 2, 1)      : OK"
      ]
    },
    {
      "cell_type": "code",
      "execution_count": 35,
      "metadata": {
        "id": "ij70I1H9BEzk"
      },
      "outputs": [],
      "source": [
        "# 1. Creation of test data set\n",
        "\n",
        "X = np.array([\n",
        "      [1, 0],\n",
        "      [0, 1],\n",
        "      [1, 1],\n",
        "      [0, 0],\n",
        "])\n",
        "Y = np.array([\n",
        "      2,\n",
        "      1,\n",
        "      -2,\n",
        "      -1\n",
        "])"
      ]
    },
    {
      "cell_type": "code",
      "execution_count": 36,
      "metadata": {
        "colab": {
          "base_uri": "https://localhost:8080/"
        },
        "id": "uuTZZufqf2e1",
        "outputId": "40b21f87-be99-4718-aa4e-b4d7ccbbfd6c"
      },
      "outputs": [
        {
          "output_type": "stream",
          "name": "stdout",
          "text": [
            "R^2 for Linear Regression classification: 0.09999999999999998\n",
            "R^2 for MLP Regression: 0.9999998620007796\n",
            "[ 1.99979189  0.99927901 -1.99915652 -0.99967536]\n"
          ]
        },
        {
          "output_type": "stream",
          "name": "stderr",
          "text": [
            "/usr/local/lib/python3.7/dist-packages/sklearn/neural_network/_multilayer_perceptron.py:696: ConvergenceWarning: Stochastic Optimizer: Maximum iterations (100000) reached and the optimization hasn't converged yet.\n",
            "  ConvergenceWarning,\n"
          ]
        }
      ],
      "source": [
        "# 2. Training of the regressors\n",
        "\n",
        "# Linear Regression\n",
        "clf_line = LinearRegression()\n",
        "\n",
        "# 2. Fit the classifier with the training data\n",
        "clf_line.fit(X, Y)\n",
        "\n",
        "# 3. Predict the y given X\n",
        "y_pred = clf_line.predict(X)\n",
        "\n",
        "# 4. Calculate accuracy\n",
        "r2 = r2_score(Y, y_pred)\n",
        "print(f\"R^2 for Linear Regression classification: {r2}\")\n",
        "\n",
        "# MLP Regressor\n",
        "# MLP (2,1)\n",
        "clf_mlp = MLPRegressor(random_state=1, hidden_layer_sizes=(2,2,), solver='sgd', activation='logistic', learning_rate_init=0.01, max_iter=100000, n_iter_no_change=100000)\n",
        "\n",
        "# 2. Fit the classifier with the training data\n",
        "clf_mlp.fit(X, Y)\n",
        "\n",
        "# 3. Predict the y given X\n",
        "y_pred = clf_mlp.predict(X)\n",
        "\n",
        "# 4. Calculate R^2\n",
        "r2 = r2_score(Y, y_pred)\n",
        "print(f\"R^2 for MLP Regression: {r2}\")\n",
        "print(y_pred)\n"
      ]
    },
    {
      "cell_type": "code",
      "source": [
        ""
      ],
      "metadata": {
        "id": "HMgDHpb5iZ9T"
      },
      "execution_count": null,
      "outputs": []
    },
    {
      "cell_type": "code",
      "execution_count": 37,
      "metadata": {
        "colab": {
          "base_uri": "https://localhost:8080/",
          "height": 336
        },
        "id": "N3VDOby8BEzn",
        "outputId": "816da0dc-2161-4f4e-d366-f79c755d96ea"
      },
      "outputs": [
        {
          "output_type": "display_data",
          "data": {
            "text/plain": [
              "<Figure size 432x288 with 1 Axes>"
            ],
            "image/png": "[encoded data removed]"
          },
          "metadata": {
            "needs_background": "light"
          }
        },
        {
          "output_type": "display_data",
          "data": {
            "text/plain": [
              "<Figure size 432x288 with 0 Axes>"
            ]
          },
          "metadata": {}
        }
      ],
      "source": [
        "# 3. Plotting of classifier result (no need for testing)\n",
        "\n",
        "from mpl_toolkits.mplot3d import Axes3D\n",
        "fig = plt.figure()\n",
        "ax = Axes3D(fig)\n",
        "ax.scatter(X[:,0],X[:,1],Y)\n",
        "plt.show()\n",
        "plt.clf()"
      ]
    },
    {
      "cell_type": "code",
      "execution_count": null,
      "metadata": {
        "id": "WMEWOz8Ff2e2"
      },
      "outputs": [],
      "source": [
        ""
      ]
    }
  ],
  "metadata": {
    "colab": {
      "collapsed_sections": [],
      "name": "Notebook_Cas_de_Tests_pour_le_rendu_2.ipynb",
      "provenance": []
    },
    "kernelspec": {
      "display_name": "Python 3.10.4 ('venv': venv)",
      "language": "python",
      "name": "python3"
    },
    "language_info": {
      "codemirror_mode": {
        "name": "ipython",
        "version": 3
      },
      "file_extension": ".py",
      "mimetype": "text/x-python",
      "name": "python",
      "nbconvert_exporter": "python",
      "pygments_lexer": "ipython3",
      "version": "3.10.4"
    },
    "vscode": {
      "interpreter": {
        "hash": "268a2b46a2a1fd7cf1d0a6e4207746d31a1df269f74a36b08244a1a810a7653e"
      }
    }
  },
  "nbformat": 4,
  "nbformat_minor": 0
}