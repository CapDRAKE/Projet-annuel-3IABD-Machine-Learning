{
  "cells": [
    {
      "cell_type": "markdown",
      "metadata": {
        "id": "12URBFa0yULK"
      },
      "source": [
        "# Imports"
      ]
    },
    {
      "cell_type": "code",
      "execution_count": 1,
      "metadata": {
        "id": "sXU99qaCyT8S"
      },
      "outputs": [],
      "source": [
        "import matplotlib.pyplot as plt\n",
        "import numpy as np"
      ]
    },
    {
      "cell_type": "markdown",
      "metadata": {
        "id": "9iB53JZ1rQJN"
      },
      "source": [
        "# Model Imports\n",
        "The model that will be imported will be first those of scikit-learn, then once the actual model will be coded they will be swapped out since they will use the same API.\n",
        "\n",
        "**Note:** It's important to note that the models are being overfitted as we are training with the whole thing and then testing with the same y trained upon! That's a big no-no for real machine learning, but to test the classifier correctness it can do.\n",
        "\n",
        "By Bastien LEUWERS"
      ]
    },
    {
      "cell_type": "code",
      "execution_count": 2,
      "metadata": {
        "id": "_1JGd4M-rQJO"
      },
      "outputs": [],
      "source": [
        "# Models Import TODO: replace this with the dll ones once done\n",
        "from sklearn.neural_network import MLPClassifier\n",
        "\n",
        "# 1. First create the classifier by telling which parameters it should have\n",
        "# clf_mlp = MLPClassifier(random_state=1, max_iter=300)\n",
        "\n",
        "# 2. Fit the classifier with the training data\n",
        "# clf_mlp.fit(X_train, y_train)\n",
        "\n",
        "# 3. Predict the y given X\n",
        "# clf_mlp.predict(X_test)\n",
        "\n",
        "# That's all that is needded to have a working classifier\n",
        "\n",
        "# Models Import TODO: replace this with the dll ones once done\n",
        "from sklearn.linear_model import LogisticRegression\n",
        "\n",
        "# 1. first create the classifier for LinearRegression \n",
        "# (no new parameters)\n",
        "# clf_line = LogisticRegression()\n",
        "\n",
        "# 2. Fit the classifier with the training data\n",
        "#clf_line.fit(X_train, y_train)\n",
        "\n",
        "# 3. Predict the y given X\n",
        "# clf_line.predict(X_test)\n",
        "\n",
        "# Models Import TODO: replace this with the dll ones once done\n",
        "#from sklearn.linear_model import LinearRegression\n",
        "from models import LinearRegression\n",
        "# 1. first create the classifier for LinearRegression \n",
        "# (no new parameters)\n",
        "# clf_line = LinearRegression()\n",
        "\n",
        "# 2. Fit the classifier with the training data\n",
        "#clf_line.fit(X_train, y_train)\n",
        "\n",
        "# 3. Predict the y given X\n",
        "# clf_line.predict(X_test)\n",
        "\n",
        "# Models Import TODO: replace this with the dll ones once done\n",
        "from sklearn.neural_network import MLPRegressor\n",
        "# Exact same API for both the MLP classifier and the regressor\n",
        "\n",
        "# 1. First create the classifier by telling which parameters it should have\n",
        "# clf_mlp = MLPRegressor(random_state=1, max_iter=300)\n",
        "\n",
        "# 2. Fit the classifier with the training data\n",
        "# clf_mlp.fit(X_train, y_train)\n",
        "\n",
        "# 3. Predict the y given X\n",
        "# clf_mlp.predict(X_test)\n",
        "\n",
        "# Scoring Imports\n",
        "from sklearn.metrics import accuracy_score #classification\n",
        "from sklearn.metrics import r2_score #regression\n",
        "\n",
        "\n"
      ]
    },
    {
      "cell_type": "markdown",
      "metadata": {
        "id": "MlaksdgDxaA6"
      },
      "source": [
        "# Cas de tests, rendu 2"
      ]
    },
    {
      "cell_type": "markdown",
      "metadata": {
        "id": "_qYwTgKqxnkl"
      },
      "source": [
        "## Classification"
      ]
    },
    {
      "cell_type": "markdown",
      "metadata": {
        "id": "-d0zULTsyFhh"
      },
      "source": [
        "### Linear Simple :\n",
        "        Linear Model : OK\n",
        "        MLP (2, 1)   : OK"
      ]
    },
    {
      "cell_type": "code",
      "execution_count": 3,
      "metadata": {
        "id": "EktwRhEMxV2A"
      },
      "outputs": [],
      "source": [
        "# 1. Creation of test data set\n",
        "\n",
        "X = np.array([\n",
        "      [1, 1],\n",
        "      [2, 3],\n",
        "      [3, 3]\n",
        "])\n",
        "Y = np.array([\n",
        "      1,\n",
        "      -1,\n",
        "      -1\n",
        "])"
      ]
    },
    {
      "cell_type": "code",
      "execution_count": 4,
      "metadata": {
        "colab": {
          "base_uri": "https://localhost:8080/"
        },
        "id": "0w6RiamUrQJW",
        "outputId": "b478a8a9-59db-43b6-ca1f-997b2651fa68"
      },
      "outputs": [
        {
          "output_type": "stream",
          "name": "stdout",
          "text": [
            "accuracy for MLP classification: 1.0\n",
            "[ 1 -1 -1]\n",
            "accuracy for Logistic Regression classification: 1.0\n",
            "[ 1 -1 -1]\n"
          ]
        },
        {
          "output_type": "stream",
          "name": "stderr",
          "text": [
            "/usr/local/lib/python3.7/dist-packages/sklearn/neural_network/_multilayer_perceptron.py:696: ConvergenceWarning: Stochastic Optimizer: Maximum iterations (100) reached and the optimization hasn't converged yet.\n",
            "  ConvergenceWarning,\n"
          ]
        }
      ],
      "source": [
        "# 2. Training of all classifier\n",
        "\n",
        "# MLP (2,1)\n",
        "clf_mlp = MLPClassifier(random_state=1, hidden_layer_sizes=(2,), solver='sgd', activation='logistic', learning_rate_init=0.1, max_iter=100)\n",
        "\n",
        "# 2. Fit the classifier with the training data\n",
        "clf_mlp.fit(X, Y)\n",
        "\n",
        "# 3. Predict the y given X\n",
        "y_pred = clf_mlp.predict(X)\n",
        "\n",
        "# 4. Calculate accuracy\n",
        "acc = accuracy_score(Y, y_pred)\n",
        "print(f\"accuracy for MLP classification: {acc}\")\n",
        "print(y_pred)\n",
        "\n",
        "\n",
        "# Logistic Regression\n",
        "clf_line = LogisticRegression()\n",
        "\n",
        "# 2. Fit the classifier with the training data\n",
        "clf_line.fit(X, Y)\n",
        "\n",
        "# 3. Predict the y given X\n",
        "y_pred = clf_line.predict(X)\n",
        "\n",
        "# 4. Calculate accuracy\n",
        "acc = accuracy_score(Y, y_pred)\n",
        "print(f\"accuracy for Logistic Regression classification: {acc}\")\n",
        "print(y_pred)\n",
        "\n"
      ]
    },
    {
      "cell_type": "code",
      "execution_count": 5,
      "metadata": {
        "colab": {
          "base_uri": "https://localhost:8080/",
          "height": 282
        },
        "id": "OpWOCJ5ZyDMY",
        "outputId": "36861cfb-a206-47fd-be17-4e7e12b0a521"
      },
      "outputs": [
        {
          "output_type": "display_data",
          "data": {
            "text/plain": [
              "<Figure size 432x288 with 1 Axes>"
            ],
            "image/png": "[encoded data removed]"
          },
          "metadata": {
            "needs_background": "light"
          }
        },
        {
          "output_type": "display_data",
          "data": {
            "text/plain": [
              "<Figure size 432x288 with 0 Axes>"
            ]
          },
          "metadata": {}
        }
      ],
      "source": [
        "# 3. Plotting of classifier result (no need for testing)\n",
        "plt.scatter(X[0, 0], X[0, 1], color='blue')\n",
        "plt.scatter(X[1:3,0], X[1:3,1], color='red')\n",
        "plt.show()\n",
        "plt.clf()"
      ]
    },
    {
      "cell_type": "markdown",
      "metadata": {
        "id": "7v8KFue-zmCv"
      },
      "source": [
        "### Linear Multiple :\n",
        "        Linear Model : OK\n",
        "        MLP (2, 1)   : OK"
      ]
    },
    {
      "cell_type": "code",
      "execution_count": 6,
      "metadata": {
        "id": "hZlnpb-qzmCw"
      },
      "outputs": [],
      "source": [
        "# 1. Creation of test data set\n",
        "\n",
        "X = np.concatenate([np.random.random((50,2)) * 0.9 + np.array([1, 1]), np.random.random((50,2)) * 0.9 + np.array([2, 2])])\n",
        "Y = np.concatenate([np.ones((50, 1)), np.ones((50, 1)) * -1.0])"
      ]
    },
    {
      "cell_type": "code",
      "execution_count": 7,
      "metadata": {
        "colab": {
          "base_uri": "https://localhost:8080/"
        },
        "id": "xqgiUJBZrQJb",
        "outputId": "71b2972e-6c7e-41b1-9e40-79f08fda872e"
      },
      "outputs": [
        {
          "output_type": "stream",
          "name": "stdout",
          "text": [
            "accuracy for MLP classification: 1.0\n",
            "accuracy for Logistic Regression classification: 1.0\n"
          ]
        },
        {
          "output_type": "stream",
          "name": "stderr",
          "text": [
            "/usr/local/lib/python3.7/dist-packages/sklearn/neural_network/_multilayer_perceptron.py:1109: DataConversionWarning: A column-vector y was passed when a 1d array was expected. Please change the shape of y to (n_samples, ), for example using ravel().\n",
            "  y = column_or_1d(y, warn=True)\n",
            "/usr/local/lib/python3.7/dist-packages/sklearn/neural_network/_multilayer_perceptron.py:696: ConvergenceWarning: Stochastic Optimizer: Maximum iterations (100) reached and the optimization hasn't converged yet.\n",
            "  ConvergenceWarning,\n",
            "/usr/local/lib/python3.7/dist-packages/sklearn/utils/validation.py:993: DataConversionWarning: A column-vector y was passed when a 1d array was expected. Please change the shape of y to (n_samples, ), for example using ravel().\n",
            "  y = column_or_1d(y, warn=True)\n"
          ]
        }
      ],
      "source": [
        "# 2. Training of all classifier\n",
        "\n",
        "# MLP (2,1)\n",
        "clf = MLPClassifier(random_state=1, hidden_layer_sizes=(2,), solver='sgd', activation='logistic', learning_rate_init=0.1, max_iter=100)\n",
        "\n",
        "\n",
        "# 2. Fit the classifier with the training data\n",
        "clf.fit(X, Y)\n",
        "\n",
        "# 3. Predict the y given X\n",
        "y_pred = clf.predict(X)\n",
        "\n",
        "# 4. Calculate accuracy\n",
        "acc = accuracy_score(Y, y_pred)\n",
        "print(f\"accuracy for MLP classification: {acc}\")\n",
        "\n",
        "# Logistic Regression\n",
        "clf_line = LogisticRegression()\n",
        "\n",
        "# 2. Fit the classifier with the training data\n",
        "clf_line.fit(X, Y)\n",
        "\n",
        "# 3. Predict the y given X\n",
        "y_pred = clf_line.predict(X)\n",
        "\n",
        "# 4. Calculate accuracy\n",
        "acc = accuracy_score(Y, y_pred)\n",
        "print(f\"accuracy for Logistic Regression classification: {acc}\")"
      ]
    },
    {
      "cell_type": "code",
      "execution_count": 8,
      "metadata": {
        "colab": {
          "base_uri": "https://localhost:8080/",
          "height": 282
        },
        "id": "a6e8GdL_zmCx",
        "outputId": "ddfe7fae-527e-49d6-8044-e3e987d58156"
      },
      "outputs": [
        {
          "output_type": "display_data",
          "data": {
            "text/plain": [
              "<Figure size 432x288 with 1 Axes>"
            ],
            "image/png": "[encoded data removed]"
          },
          "metadata": {
            "needs_background": "light"
          }
        },
        {
          "output_type": "display_data",
          "data": {
            "text/plain": [
              "<Figure size 432x288 with 0 Axes>"
            ]
          },
          "metadata": {}
        }
      ],
      "source": [
        "# 3. Plotting of classifier result (no need for testing)\n",
        "\n",
        "plt.scatter(X[0:50, 0], X[0:50, 1], color='blue')\n",
        "plt.scatter(X[50:100,0], X[50:100,1], color='red')\n",
        "plt.show()\n",
        "plt.clf()"
      ]
    },
    {
      "cell_type": "markdown",
      "metadata": {
        "id": "gZlONmsp1T_W"
      },
      "source": [
        "### XOR :\n",
        "        Linear Model    : KO\n",
        "        MLP (2, 2, 1)   : OK"
      ]
    },
    {
      "cell_type": "code",
      "execution_count": 9,
      "metadata": {
        "id": "673wfC9U1T_W"
      },
      "outputs": [],
      "source": [
        "# 1. Creation of test data set\n",
        "\n",
        "X = np.array([[1, 0], [0, 1], [0, 0], [1, 1]])\n",
        "Y = np.array([1, 1, -1, -1])"
      ]
    },
    {
      "cell_type": "code",
      "execution_count": 10,
      "metadata": {
        "colab": {
          "base_uri": "https://localhost:8080/"
        },
        "id": "WmFNp8VjrQJg",
        "outputId": "2f5ab0c0-4859-404e-a5fd-8af540507cdb"
      },
      "outputs": [
        {
          "output_type": "stream",
          "name": "stdout",
          "text": [
            "accuracy for MLP classification: 1.0\n",
            "[ 1  1 -1 -1]\n",
            "accuracy for Logistic Regression classification: 0.5\n"
          ]
        },
        {
          "output_type": "stream",
          "name": "stderr",
          "text": [
            "/usr/local/lib/python3.7/dist-packages/sklearn/neural_network/_multilayer_perceptron.py:696: ConvergenceWarning: Stochastic Optimizer: Maximum iterations (1000) reached and the optimization hasn't converged yet.\n",
            "  ConvergenceWarning,\n"
          ]
        }
      ],
      "source": [
        "# 2. Training of all classifier\n",
        "\n",
        "# MLP (2,2,1)\n",
        "clf = MLPClassifier(random_state=1, hidden_layer_sizes=(2,2), solver='sgd', activation='logistic', learning_rate_init=0.3, max_iter=1000, n_iter_no_change=20000)\n",
        "\n",
        "\n",
        "# 2. Fit the classifier with the training data\n",
        "clf.fit(X, Y)\n",
        "\n",
        "# 3. Predict the y given X\n",
        "y_pred = clf.predict(X)\n",
        "\n",
        "# 4. Calculate accuracy\n",
        "acc = accuracy_score(Y, y_pred)\n",
        "print(f\"accuracy for MLP classification: {acc}\")\n",
        "print(y_pred)\n",
        "\n",
        "# Logistic Regression\n",
        "clf_line = LogisticRegression()\n",
        "\n",
        "# 2. Fit the classifier with the training data\n",
        "clf_line.fit(X, Y)\n",
        "\n",
        "# 3. Predict the y given X\n",
        "y_pred = clf_line.predict(X)\n",
        "\n",
        "# 4. Calculate accuracy\n",
        "acc = accuracy_score(Y, y_pred)\n",
        "print(f\"accuracy for Logistic Regression classification: {acc}\")"
      ]
    },
    {
      "cell_type": "code",
      "execution_count": 11,
      "metadata": {
        "colab": {
          "base_uri": "https://localhost:8080/",
          "height": 282
        },
        "id": "uA3E-h801T_Y",
        "outputId": "41056357-11fb-4b35-a923-81a32b0abee8"
      },
      "outputs": [
        {
          "output_type": "display_data",
          "data": {
            "text/plain": [
              "<Figure size 432x288 with 1 Axes>"
            ],
            "image/png": "[encoded data removed]"
          },
          "metadata": {
            "needs_background": "light"
          }
        },
        {
          "output_type": "display_data",
          "data": {
            "text/plain": [
              "<Figure size 432x288 with 0 Axes>"
            ]
          },
          "metadata": {}
        }
      ],
      "source": [
        "# 3. Plotting of classifier result (no need for testing)\n",
        "\n",
        "plt.scatter(X[0:2, 0], X[0:2, 1], color='blue')\n",
        "plt.scatter(X[2:4,0], X[2:4,1], color='red')\n",
        "plt.show()\n",
        "plt.clf()"
      ]
    },
    {
      "cell_type": "markdown",
      "metadata": {
        "id": "5qxkXVo02MpM"
      },
      "source": [
        "\n",
        "\n",
        "\n",
        "\n",
        "\n",
        "\n",
        "\n",
        "\n",
        "\n",
        "\n",
        "\n",
        "\n",
        "\n",
        "\n",
        "\n",
        "\n",
        "\n",
        "\n",
        "\n",
        "\n",
        "\n",
        "\n",
        "\n",
        "\n",
        "\n",
        "\n",
        "\n",
        "\n",
        "\n",
        "\n",
        "\n",
        "\n",
        "\n",
        "\n",
        "\n",
        "\n",
        "\n",
        "\n",
        "\n",
        "\n",
        "\n",
        "\n",
        "\n",
        "\n",
        "\n",
        "\n",
        "\n",
        "\n",
        "\n",
        "\n",
        "\n",
        "\n",
        "\n",
        "\n",
        "\n",
        "\n",
        "\n",
        "\n",
        "\n",
        "\n",
        "\n",
        "\n",
        "\n",
        "\n",
        "\n",
        "\n",
        "\n",
        "\n",
        "\n",
        "\n",
        "\n",
        "\n",
        "\n",
        "\n",
        "\n",
        "\n",
        "\n",
        "\n",
        "\n",
        "\n",
        "\n",
        "\n",
        "\n",
        "\n",
        "\n",
        "\n",
        "\n",
        "\n",
        "### Cross :\n",
        "        Linear Model    : KO\n",
        "        MLP (2, 4, 1)   : OK"
      ]
    },
    {
      "cell_type": "code",
      "execution_count": 12,
      "metadata": {
        "id": "7kkrrfnX2MpM"
      },
      "outputs": [],
      "source": [
        "# 1. Creation of test data set\n",
        "\n",
        "X = np.random.random((500, 2)) * 2.0 - 1.0\n",
        "Y = np.array([1 if abs(p[0]) <= 0.3 or abs(p[1]) <= 0.3 else -1 for p in X])"
      ]
    },
    {
      "cell_type": "code",
      "execution_count": 13,
      "metadata": {
        "colab": {
          "base_uri": "https://localhost:8080/"
        },
        "id": "VERs4_JerQJl",
        "outputId": "3b62f56a-6ae3-48e3-ccda-c889d241d5c9"
      },
      "outputs": [
        {
          "output_type": "stream",
          "name": "stdout",
          "text": [
            "accuracy for MLP classification: 0.804\n",
            "accuracy for Logistic Regression classification: 0.618\n"
          ]
        }
      ],
      "source": [
        "# 2. Training of all classifier\n",
        "\n",
        "# MLP (2,4,1)\n",
        "# Not bad at 78% accuracy, but there is clearly longer training required here\n",
        "# TODO: Train this longer and check if it ends up converging\n",
        "clf = MLPClassifier(random_state=1, hidden_layer_sizes=(2,4), solver='sgd', activation='logistic', learning_rate_init=0.1, max_iter=100000, n_iter_no_change=10000)\n",
        "\n",
        "# 2. Fit the classifier with the training data\n",
        "clf.fit(X, Y)\n",
        "\n",
        "# 3. Predict the y given X\n",
        "y_pred = clf.predict(X)\n",
        "\n",
        "# 4. Calculate accuracy\n",
        "acc = accuracy_score(Y, y_pred)\n",
        "print(f\"accuracy for MLP classification: {acc}\")\n",
        "clf.n_iter_\n",
        "\n",
        "# Logistic Regression\n",
        "clf_line = LogisticRegression()\n",
        "\n",
        "# 2. Fit the classifier with the training data\n",
        "clf_line.fit(X, Y)\n",
        "\n",
        "# 3. Predict the y given X\n",
        "y_pred = clf_line.predict(X)\n",
        "\n",
        "# 4. Calculate accuracy\n",
        "acc = accuracy_score(Y, y_pred)\n",
        "print(f\"accuracy for Logistic Regression classification: {acc}\")"
      ]
    },
    {
      "cell_type": "code",
      "execution_count": 14,
      "metadata": {
        "colab": {
          "base_uri": "https://localhost:8080/",
          "height": 282
        },
        "id": "zVBAE2fY2MpO",
        "outputId": "a6dbb4ac-adf2-48b5-c611-40d49bdca20c"
      },
      "outputs": [
        {
          "output_type": "display_data",
          "data": {
            "text/plain": [
              "<Figure size 432x288 with 1 Axes>"
            ],
            "image/png": "[encoded data removed]"
          },
          "metadata": {
            "needs_background": "light"
          }
        },
        {
          "output_type": "display_data",
          "data": {
            "text/plain": [
              "<Figure size 432x288 with 0 Axes>"
            ]
          },
          "metadata": {}
        }
      ],
      "source": [
        "# 3. Plotting of classifier result (no need for testing)\n",
        "\n",
        "plt.scatter(np.array(list(map(lambda elt : elt[1], filter(lambda c: Y[c[0]] == 1, enumerate(X)))))[:,0], np.array(list(map(lambda elt : elt[1], filter(lambda c: Y[c[0]] == 1, enumerate(X)))))[:,1], color='blue')\n",
        "plt.scatter(np.array(list(map(lambda elt : elt[1], filter(lambda c: Y[c[0]] == -1, enumerate(X)))))[:,0], np.array(list(map(lambda elt : elt[1], filter(lambda c: Y[c[0]] == -1, enumerate(X)))))[:,1], color='red')\n",
        "plt.show()\n",
        "plt.clf()"
      ]
    },
    {
      "cell_type": "markdown",
      "metadata": {
        "id": "v4hhnYge928d"
      },
      "source": [
        "### Multi Linear 3 classes :\n",
        "        Linear Model x3 : OK\n",
        "        MLP (2, 3)      : OK"
      ]
    },
    {
      "cell_type": "code",
      "execution_count": 15,
      "metadata": {
        "id": "IvhvqkDw928q"
      },
      "outputs": [],
      "source": [
        "# 1. Creation of test data set\n",
        "\n",
        "X = np.random.random((500, 2)) * 2.0 - 1.0\n",
        "Y = np.array([[1, 0, 0] if -p[0] - p[1] - 0.5 > 0 and p[1] < 0 and p[0] - p[1] - 0.5 < 0 else \n",
        "              [0, 1, 0] if -p[0] - p[1] - 0.5 < 0 and p[1] > 0 and p[0] - p[1] - 0.5 < 0 else \n",
        "              [0, 0, 1] if -p[0] - p[1] - 0.5 < 0 and p[1] < 0 and p[0] - p[1] - 0.5 > 0 else \n",
        "              [0, 0, 0]for p in X])\n",
        "\n",
        "X = X[[not np.all(arr == [0, 0, 0]) for arr in Y]]\n",
        "Y = Y[[not np.all(arr == [0, 0, 0]) for arr in Y]]\n",
        "\n",
        "linear_Y = [0*y[0] + 1*y[1] + 2*y[2] for y in Y] # need to convert this for the linear model"
      ]
    },
    {
      "cell_type": "code",
      "execution_count": 16,
      "metadata": {
        "colab": {
          "base_uri": "https://localhost:8080/"
        },
        "id": "XwgV-nPNrQJq",
        "outputId": "6ddb661c-1c86-4b38-d423-e7ced98d4fe4"
      },
      "outputs": [
        {
          "output_type": "stream",
          "name": "stdout",
          "text": [
            "accuracy for MLP classification: 1.0\n",
            "accuracy for Logistic Regression classification: 1.0\n"
          ]
        }
      ],
      "source": [
        "# 2. Training of all classifier\n",
        "\n",
        "# MLP (2,3)\n",
        "clf = MLPClassifier(random_state=1, hidden_layer_sizes=(2), solver='sgd', activation='logistic', learning_rate_init=0.1, max_iter=1000, n_iter_no_change=100)\n",
        "\n",
        "# 2. Fit the classifier with the training data\n",
        "clf.fit(X, Y)\n",
        "\n",
        "# 3. Predict the y given X\n",
        "y_pred = clf.predict(X)\n",
        "\n",
        "# 4. Calculate accuracy\n",
        "acc = accuracy_score(Y, y_pred)\n",
        "print(f\"accuracy for MLP classification: {acc}\")\n",
        "\n",
        "# Logistic Regression\n",
        "clf_line = LogisticRegression()\n",
        "\n",
        "# 2. Fit the classifier with the training data\n",
        "clf_line.fit(X, linear_Y)\n",
        "\n",
        "# 3. Predict the y given X\n",
        "y_pred = clf_line.predict(X)\n",
        "\n",
        "# 4. Calculate accuracy\n",
        "acc = accuracy_score(linear_Y, y_pred)\n",
        "print(f\"accuracy for Logistic Regression classification: {acc}\")"
      ]
    },
    {
      "cell_type": "code",
      "execution_count": 17,
      "metadata": {
        "colab": {
          "base_uri": "https://localhost:8080/",
          "height": 282
        },
        "id": "4aqzcUlJ928s",
        "outputId": "a9a6e013-d65d-4b0f-fa03-9aadcc6e14c8"
      },
      "outputs": [
        {
          "output_type": "display_data",
          "data": {
            "text/plain": [
              "<Figure size 432x288 with 1 Axes>"
            ],
            "image/png": "[encoded data removed]"
          },
          "metadata": {
            "needs_background": "light"
          }
        },
        {
          "output_type": "display_data",
          "data": {
            "text/plain": [
              "<Figure size 432x288 with 0 Axes>"
            ]
          },
          "metadata": {}
        }
      ],
      "source": [
        "# 3. Plotting of classifier result (no need for testing)\n",
        "\n",
        "plt.scatter(np.array(list(map(lambda elt : elt[1], filter(lambda c: Y[c[0]][0] == 1, enumerate(X)))))[:,0], np.array(list(map(lambda elt : elt[1], filter(lambda c: Y[c[0]][0] == 1, enumerate(X)))))[:,1], color='blue')\n",
        "plt.scatter(np.array(list(map(lambda elt : elt[1], filter(lambda c: Y[c[0]][1] == 1, enumerate(X)))))[:,0], np.array(list(map(lambda elt : elt[1], filter(lambda c: Y[c[0]][1] == 1, enumerate(X)))))[:,1], color='red')\n",
        "plt.scatter(np.array(list(map(lambda elt : elt[1], filter(lambda c: Y[c[0]][2] == 1, enumerate(X)))))[:,0], np.array(list(map(lambda elt : elt[1], filter(lambda c: Y[c[0]][2] == 1, enumerate(X)))))[:,1], color='green')\n",
        "plt.show()\n",
        "plt.clf()"
      ]
    },
    {
      "cell_type": "markdown",
      "metadata": {
        "id": "uKFBx2m066i2"
      },
      "source": [
        "### Multi Cross :\n",
        "        Linear Model x3 : KO\n",
        "        MLP (2, ?, ?, 3): OK"
      ]
    },
    {
      "cell_type": "code",
      "execution_count": 18,
      "metadata": {
        "id": "0ZE8OW-K66i5"
      },
      "outputs": [],
      "source": [
        "# 1. Creation of test data set\n",
        "\n",
        "X = np.random.random((1000, 2)) * 2.0 - 1.0\n",
        "Y = np.array([[1, 0, 0] if abs(p[0] % 0.5) <= 0.25 and abs(p[1] % 0.5) > 0.25 else [0, 1, 0] if abs(p[0] % 0.5) > 0.25 and abs(p[1] % 0.5) <= 0.25 else [0, 0, 1] for p in X])\n",
        "\n",
        "linear_Y = [0*y[0] + 1*y[1] + 2*y[2] for y in Y] # need to convert this for the linear model"
      ]
    },
    {
      "cell_type": "code",
      "execution_count": 19,
      "metadata": {
        "colab": {
          "base_uri": "https://localhost:8080/"
        },
        "id": "Mf7ddiQBrQJt",
        "outputId": "bd935a25-2bc7-4035-d839-07f14a7deb1f"
      },
      "outputs": [
        {
          "output_type": "stream",
          "name": "stdout",
          "text": [
            "accuracy for MLP classification: 0.472\n",
            "accuracy for Logistic Regression classification: 0.519\n"
          ]
        },
        {
          "output_type": "stream",
          "name": "stderr",
          "text": [
            "/usr/local/lib/python3.7/dist-packages/sklearn/neural_network/_multilayer_perceptron.py:696: ConvergenceWarning: Stochastic Optimizer: Maximum iterations (1000) reached and the optimization hasn't converged yet.\n",
            "  ConvergenceWarning,\n"
          ]
        }
      ],
      "source": [
        "# 2. Training of all classifier\n",
        "\n",
        "# MLP (2,?,?,3)\n",
        "# TODO: This one kinda of suck still will need to boost it up it's capacity and number of iterations to make it overfit\n",
        "clf = MLPClassifier(random_state=1, hidden_layer_sizes=(2,20,), solver='sgd', activation='logistic', learning_rate_init=0.1, max_iter=1000, n_iter_no_change=1000)\n",
        "\n",
        "# 2. Fit the classifier with the training data\n",
        "clf.fit(X, Y)\n",
        "\n",
        "# 3. Predict the y given X\n",
        "y_pred = clf.predict(X)\n",
        "\n",
        "# 4. Calculate accuracy\n",
        "acc = accuracy_score(Y, y_pred)\n",
        "print(f\"accuracy for MLP classification: {acc}\")\n",
        "\n",
        "# Logistic Regression\n",
        "clf_line = LogisticRegression()\n",
        "\n",
        "# 2. Fit the classifier with the training data\n",
        "clf_line.fit(X, linear_Y)\n",
        "\n",
        "# 3. Predict the y given X\n",
        "y_pred = clf_line.predict(X)\n",
        "\n",
        "# 4. Calculate accuracy\n",
        "acc = accuracy_score(linear_Y, y_pred)\n",
        "print(f\"accuracy for Logistic Regression classification: {acc}\")"
      ]
    },
    {
      "cell_type": "code",
      "execution_count": 20,
      "metadata": {
        "colab": {
          "base_uri": "https://localhost:8080/",
          "height": 282
        },
        "id": "55U95UMS66i6",
        "outputId": "5e1e7b9d-44b4-4c8b-882b-07c99794aedd"
      },
      "outputs": [
        {
          "output_type": "display_data",
          "data": {
            "text/plain": [
              "<Figure size 432x288 with 1 Axes>"
            ],
            "image/png": "[encoded data removed]"
          },
          "metadata": {
            "needs_background": "light"
          }
        },
        {
          "output_type": "display_data",
          "data": {
            "text/plain": [
              "<Figure size 432x288 with 0 Axes>"
            ]
          },
          "metadata": {}
        }
      ],
      "source": [
        "# 3. Plotting of classifier result (no need for testing)\n",
        "\n",
        "plt.scatter(np.array(list(map(lambda elt : elt[1], filter(lambda c: Y[c[0]][0] == 1, enumerate(X)))))[:,0], np.array(list(map(lambda elt : elt[1], filter(lambda c: Y[c[0]][0] == 1, enumerate(X)))))[:,1], color='blue')\n",
        "plt.scatter(np.array(list(map(lambda elt : elt[1], filter(lambda c: Y[c[0]][1] == 1, enumerate(X)))))[:,0], np.array(list(map(lambda elt : elt[1], filter(lambda c: Y[c[0]][1] == 1, enumerate(X)))))[:,1], color='red')\n",
        "plt.scatter(np.array(list(map(lambda elt : elt[1], filter(lambda c: Y[c[0]][2] == 1, enumerate(X)))))[:,0], np.array(list(map(lambda elt : elt[1], filter(lambda c: Y[c[0]][2] == 1, enumerate(X)))))[:,1], color='green')\n",
        "plt.show()\n",
        "plt.clf()"
      ]
    },
    {
      "cell_type": "markdown",
      "metadata": {
        "id": "zyrivJMK_WOQ"
      },
      "source": [
        "## Régression"
      ]
    },
    {
      "cell_type": "markdown",
      "metadata": {
        "id": "p4EB787A_WOR"
      },
      "source": [
        "### Linear Simple 2D :\n",
        "        Linear Model : OK\n",
        "        MLP (1, 1)   : OK"
      ]
    },
    {
      "cell_type": "code",
      "execution_count": 21,
      "metadata": {
        "id": "dan93I7A_WOR"
      },
      "outputs": [],
      "source": [
        "# 1. Creation of test data set\n",
        "\n",
        "X = np.array([\n",
        "      [1],\n",
        "      [2]\n",
        "])\n",
        "Y = np.array([\n",
        "      2,\n",
        "      3\n",
        "])"
      ]
    },
    {
      "cell_type": "code",
      "execution_count": 22,
      "metadata": {
        "colab": {
          "base_uri": "https://localhost:8080/"
        },
        "id": "2doPuYaGrQJx",
        "outputId": "b28f5169-6f23-4858-9275-9835e567664b"
      },
      "outputs": [
        {
          "output_type": "stream",
          "name": "stdout",
          "text": [
            "R^2 for Linear Regression: 1.0\n",
            "R^2 for MLP Regression: 0.9477770751147795\n"
          ]
        },
        {
          "output_type": "stream",
          "name": "stderr",
          "text": [
            "/usr/local/lib/python3.7/dist-packages/sklearn/neural_network/_multilayer_perceptron.py:696: ConvergenceWarning: Stochastic Optimizer: Maximum iterations (1000) reached and the optimization hasn't converged yet.\n",
            "  ConvergenceWarning,\n"
          ]
        }
      ],
      "source": [
        "# 2. Training of the regressor\n",
        "\n",
        "# Linear Regression\n",
        "clf_line = LinearRegression()\n",
        "\n",
        "# 2. Fit the classifier with the training data\n",
        "clf_line.fit(X, Y)\n",
        "\n",
        "# 3. Predict the y given X\n",
        "y_pred = clf_line.predict(X)\n",
        "\n",
        "# 4. Calculate R^2\n",
        "r2 = r2_score(Y, y_pred)\n",
        "print(f\"R^2 for Linear Regression: {r2}\")\n",
        "\n",
        "\n",
        "# MLP Regressor\n",
        "# MLP (1,1)\n",
        "clf_mlp = MLPRegressor(random_state=1, hidden_layer_sizes=(1,), solver='sgd', activation='logistic', learning_rate_init=0.01, max_iter=1000, n_iter_no_change=1000)\n",
        "\n",
        "# 2. Fit the classifier with the training data\n",
        "clf_mlp.fit(X, Y)\n",
        "\n",
        "# 3. Predict the y given X\n",
        "y_pred = clf_mlp.predict(X)\n",
        "\n",
        "\n",
        "# 4. Calculate R^2\n",
        "r2 = r2_score(Y, y_pred)\n",
        "print(f\"R^2 for MLP Regression: {r2}\")"
      ]
    },
    {
      "cell_type": "code",
      "execution_count": 23,
      "metadata": {
        "colab": {
          "base_uri": "https://localhost:8080/",
          "height": 282
        },
        "id": "6vHbCksm_sQU",
        "outputId": "96cb429e-1be3-47be-880c-a1e969bd0e57"
      },
      "outputs": [
        {
          "output_type": "display_data",
          "data": {
            "text/plain": [
              "<Figure size 432x288 with 1 Axes>"
            ],
            "image/png": "[encoded data removed]"
          },
          "metadata": {
            "needs_background": "light"
          }
        },
        {
          "output_type": "display_data",
          "data": {
            "text/plain": [
              "<Figure size 432x288 with 0 Axes>"
            ]
          },
          "metadata": {}
        }
      ],
      "source": [
        "# 3. Plotting of classifier result (no need for testing)\n",
        "\n",
        "plt.scatter(X,Y)\n",
        "plt.show()\n",
        "plt.clf()"
      ]
    },
    {
      "cell_type": "markdown",
      "metadata": {
        "id": "CkFb79fq_6ci"
      },
      "source": [
        "### Non Linear Simple 2D :\n",
        "        Linear Model    : OK\n",
        "        MLP (1, ?, 1)   : OK"
      ]
    },
    {
      "cell_type": "code",
      "execution_count": 24,
      "metadata": {
        "id": "sZqi1Yy3_6cj"
      },
      "outputs": [],
      "source": [
        "# 1. Creation of test data set\n",
        "\n",
        "X = np.array([\n",
        "      [1],\n",
        "      [2],\n",
        "      [3]\n",
        "])\n",
        "Y = np.array([\n",
        "      2,\n",
        "      3,\n",
        "      2.5\n",
        "])"
      ]
    },
    {
      "cell_type": "code",
      "execution_count": 25,
      "metadata": {
        "colab": {
          "base_uri": "https://localhost:8080/"
        },
        "id": "ax1hyGZdrQJ0",
        "outputId": "3154a378-10d2-483b-e646-2cb6ea34ebe6"
      },
      "outputs": [
        {
          "output_type": "stream",
          "name": "stdout",
          "text": [
            "R^2 for Linear Regression classification: 0.25000000000000044\n",
            "R^2 for MLP Regression: 0.7243893641904664\n",
            "[2.01642282 2.72971814 2.75393568]\n"
          ]
        },
        {
          "output_type": "stream",
          "name": "stderr",
          "text": [
            "/usr/local/lib/python3.7/dist-packages/sklearn/neural_network/_multilayer_perceptron.py:696: ConvergenceWarning: Stochastic Optimizer: Maximum iterations (10000) reached and the optimization hasn't converged yet.\n",
            "  ConvergenceWarning,\n"
          ]
        }
      ],
      "source": [
        "# 2. Training of the regressors\n",
        "\n",
        "# Linear Regression\n",
        "clf_line = LinearRegression()\n",
        "\n",
        "# 2. Fit the classifier with the training data\n",
        "clf_line.fit(X, Y)\n",
        "\n",
        "# 3. Predict the y given X\n",
        "y_pred = clf_line.predict(X)\n",
        "\n",
        "# 4. Calculate accuracy\n",
        "r2 = r2_score(Y, y_pred)\n",
        "print(f\"R^2 for Linear Regression classification: {r2}\")\n",
        "\n",
        "# MLP Regressor\n",
        "# MLP (1,100)\n",
        "clf_mlp = MLPRegressor(random_state=1, hidden_layer_sizes=(1,100), solver='sgd', activation='logistic', learning_rate_init=0.01, max_iter=10000, n_iter_no_change=10000)\n",
        "\n",
        "# 2. Fit the classifier with the training data\n",
        "clf_mlp.fit(X, Y)\n",
        "\n",
        "# 3. Predict the y given X\n",
        "y_pred = clf_mlp.predict(X)\n",
        "\n",
        "# 4. Calculate R^2\n",
        "r2 = r2_score(Y, y_pred)\n",
        "print(f\"R^2 for MLP Regression: {r2}\")\n",
        "print(y_pred)"
      ]
    },
    {
      "cell_type": "code",
      "execution_count": 26,
      "metadata": {
        "colab": {
          "base_uri": "https://localhost:8080/",
          "height": 282
        },
        "id": "NSqXDh6c_6ck",
        "outputId": "452ba831-87e0-4082-9dd8-44c9a74179a8"
      },
      "outputs": [
        {
          "output_type": "display_data",
          "data": {
            "text/plain": [
              "<Figure size 432x288 with 1 Axes>"
            ],
            "image/png": "[encoded data removed]"
          },
          "metadata": {
            "needs_background": "light"
          }
        },
        {
          "output_type": "display_data",
          "data": {
            "text/plain": [
              "<Figure size 432x288 with 0 Axes>"
            ]
          },
          "metadata": {}
        }
      ],
      "source": [
        "# 3. Plotting of classifier result (no need for testing)\n",
        "\n",
        "plt.scatter(X,Y)\n",
        "plt.show()\n",
        "plt.clf()"
      ]
    },
    {
      "cell_type": "markdown",
      "metadata": {
        "id": "WT1s5lZxAJuL"
      },
      "source": [
        "### Linear Simple 3D :\n",
        "        Linear Model    : OK\n",
        "        MLP (2, 1)      : OK"
      ]
    },
    {
      "cell_type": "code",
      "execution_count": 27,
      "metadata": {
        "id": "KL_IanGMAJuM"
      },
      "outputs": [],
      "source": [
        "# 1. Creation of test data set\n",
        "\n",
        "X = np.array([\n",
        "      [1, 1],\n",
        "      [2, 2],\n",
        "      [3, 1]\n",
        "])\n",
        "Y = np.array([\n",
        "      2,\n",
        "      3,\n",
        "      2.5\n",
        "])"
      ]
    },
    {
      "cell_type": "code",
      "execution_count": 28,
      "metadata": {
        "colab": {
          "base_uri": "https://localhost:8080/"
        },
        "id": "sxHRXL3ErQJ3",
        "outputId": "fa4dacd4-79c8-44fb-ff8d-3f0a54ecca31"
      },
      "outputs": [
        {
          "output_type": "stream",
          "name": "stdout",
          "text": [
            "R^2 for Linear Regression classification: 1.0\n",
            "R^2 for MLP Regression: 0.9999986010600318\n"
          ]
        },
        {
          "output_type": "stream",
          "name": "stderr",
          "text": [
            "/usr/local/lib/python3.7/dist-packages/sklearn/neural_network/_multilayer_perceptron.py:696: ConvergenceWarning: Stochastic Optimizer: Maximum iterations (3000) reached and the optimization hasn't converged yet.\n",
            "  ConvergenceWarning,\n"
          ]
        }
      ],
      "source": [
        "# 2. Training of the regressors\n",
        "\n",
        "# Linear Regression\n",
        "clf_line = LinearRegression()\n",
        "\n",
        "# 2. Fit the classifier with the training data\n",
        "clf_line.fit(X, Y)\n",
        "\n",
        "# 3. Predict the y given X\n",
        "y_pred = clf_line.predict(X)\n",
        "\n",
        "# 4. Calculate accuracy\n",
        "r2 = r2_score(Y, y_pred)\n",
        "print(f\"R^2 for Linear Regression classification: {r2}\")\n",
        "\n",
        "# MLP Regressor\n",
        "# MLP (2,1)\n",
        "clf_mlp = MLPRegressor(random_state=1, hidden_layer_sizes=(2,), solver='sgd', activation='logistic', learning_rate_init=0.01, max_iter=3000, n_iter_no_change=3000)\n",
        "\n",
        "# 2. Fit the classifier with the training data\n",
        "clf_mlp.fit(X, Y)\n",
        "\n",
        "# 3. Predict the y given X\n",
        "y_pred = clf_mlp.predict(X)\n",
        "\n",
        "# 4. Calculate R^2\n",
        "r2 = r2_score(Y, y_pred)\n",
        "print(f\"R^2 for MLP Regression: {r2}\")\n"
      ]
    },
    {
      "cell_type": "code",
      "execution_count": 29,
      "metadata": {
        "colab": {
          "base_uri": "https://localhost:8080/",
          "height": 336
        },
        "id": "91dQpMIzAJuO",
        "outputId": "86830b65-3492-4534-a0dd-bf886b3ba12a"
      },
      "outputs": [
        {
          "output_type": "display_data",
          "data": {
            "text/plain": [
              "<Figure size 432x288 with 1 Axes>"
            ],
            "image/png": "[encoded data removed]"
          },
          "metadata": {
            "needs_background": "light"
          }
        },
        {
          "output_type": "display_data",
          "data": {
            "text/plain": [
              "<Figure size 432x288 with 0 Axes>"
            ]
          },
          "metadata": {}
        }
      ],
      "source": [
        "# 3. Plotting of classifier result (no need for testing)\n",
        "\n",
        "from mpl_toolkits.mplot3d import Axes3D\n",
        "fig = plt.figure()\n",
        "ax = Axes3D(fig)\n",
        "ax.scatter(X[:,0],X[:,1],Y)\n",
        "plt.show()\n",
        "plt.clf()"
      ]
    },
    {
      "cell_type": "markdown",
      "metadata": {
        "id": "kO361TllBqbm"
      },
      "source": [
        "### Linear Tricky 3D :\n",
        "        Linear Model    : OK\n",
        "        MLP (2, 1)      : OK"
      ]
    },
    {
      "cell_type": "code",
      "execution_count": 30,
      "metadata": {
        "id": "nR_i7qLxBqbm"
      },
      "outputs": [],
      "source": [
        "# 1. Creation of test data set\n",
        "\n",
        "X = np.array([\n",
        "      [1, 1],\n",
        "      [2, 2],\n",
        "      [3, 3]\n",
        "])\n",
        "Y = np.array([\n",
        "      1,\n",
        "      2,\n",
        "      3\n",
        "])"
      ]
    },
    {
      "cell_type": "code",
      "execution_count": 31,
      "metadata": {
        "colab": {
          "base_uri": "https://localhost:8080/"
        },
        "id": "Tm4SrC5DrQJ6",
        "outputId": "18a4877f-5165-4655-9c49-9d0ab56e5d18"
      },
      "outputs": [
        {
          "output_type": "stream",
          "name": "stdout",
          "text": [
            "R^2 for Linear Regression classification: 1.0\n",
            "R^2 for MLP Regression: 0.9998905023377544\n"
          ]
        },
        {
          "output_type": "stream",
          "name": "stderr",
          "text": [
            "/usr/local/lib/python3.7/dist-packages/sklearn/neural_network/_multilayer_perceptron.py:696: ConvergenceWarning: Stochastic Optimizer: Maximum iterations (3000) reached and the optimization hasn't converged yet.\n",
            "  ConvergenceWarning,\n"
          ]
        }
      ],
      "source": [
        "# 2. Training of the regressors\n",
        "\n",
        "# Linear Regression\n",
        "clf_line = LinearRegression()\n",
        "\n",
        "# 2. Fit the classifier with the training data\n",
        "clf_line.fit(X, Y)\n",
        "\n",
        "# 3. Predict the y given X\n",
        "y_pred = clf_line.predict(X)\n",
        "\n",
        "# 4. Calculate accuracy\n",
        "r2 = r2_score(Y, y_pred)\n",
        "print(f\"R^2 for Linear Regression classification: {r2}\")\n",
        "\n",
        "# MLP Regressor\n",
        "# MLP (2,1)\n",
        "clf_mlp = MLPRegressor(random_state=1, hidden_layer_sizes=(2,), solver='sgd', activation='logistic', learning_rate_init=0.01, max_iter=3000, n_iter_no_change=3000)\n",
        "\n",
        "# 2. Fit the classifier with the training data\n",
        "clf_mlp.fit(X, Y)\n",
        "\n",
        "# 3. Predict the y given X\n",
        "y_pred = clf_mlp.predict(X)\n",
        "\n",
        "# 4. Calculate R^2\n",
        "r2 = r2_score(Y, y_pred)\n",
        "print(f\"R^2 for MLP Regression: {r2}\")\n"
      ]
    },
    {
      "cell_type": "code",
      "execution_count": 32,
      "metadata": {
        "colab": {
          "base_uri": "https://localhost:8080/",
          "height": 336
        },
        "id": "dHriVYrKBqbo",
        "outputId": "6db22c28-ccf1-45fb-e430-0f360fd91966"
      },
      "outputs": [
        {
          "output_type": "display_data",
          "data": {
            "text/plain": [
              "<Figure size 432x288 with 1 Axes>"
            ],
            "image/png": "[encoded data removed]"
          },
          "metadata": {
            "needs_background": "light"
          }
        },
        {
          "output_type": "display_data",
          "data": {
            "text/plain": [
              "<Figure size 432x288 with 0 Axes>"
            ]
          },
          "metadata": {}
        }
      ],
      "source": [
        "# 3. Plotting of classifier result (no need for testing)\n",
        "\n",
        "from mpl_toolkits.mplot3d import Axes3D\n",
        "fig = plt.figure()\n",
        "ax = Axes3D(fig)\n",
        "ax.scatter(X[:,0],X[:,1],Y)\n",
        "plt.show()\n",
        "plt.clf()"
      ]
    },
    {
      "cell_type": "markdown",
      "metadata": {
        "id": "H_h0_vtCBEzk"
      },
      "source": [
        "### Non Linear Simple 3D :\n",
        "        Linear Model       : KO\n",
        "        MLP (2, 2, 1)      : OK"
      ]
    },
    {
      "cell_type": "code",
      "execution_count": 33,
      "metadata": {
        "id": "ij70I1H9BEzk"
      },
      "outputs": [],
      "source": [
        "# 1. Creation of test data set\n",
        "\n",
        "X = np.array([\n",
        "      [1, 0],\n",
        "      [0, 1],\n",
        "      [1, 1],\n",
        "      [0, 0],\n",
        "])\n",
        "Y = np.array([\n",
        "      2,\n",
        "      1,\n",
        "      -2,\n",
        "      -1\n",
        "])"
      ]
    },
    {
      "cell_type": "code",
      "execution_count": 34,
      "metadata": {
        "colab": {
          "base_uri": "https://localhost:8080/"
        },
        "id": "Ai_X6B4XrQJ8",
        "outputId": "50dd909c-46b8-4876-fda0-8e41736cd189"
      },
      "outputs": [
        {
          "output_type": "stream",
          "name": "stdout",
          "text": [
            "R^2 for Linear Regression classification: 0.09999999999999998\n",
            "R^2 for MLP Regression: 0.9999998620007796\n",
            "[ 1.99979189  0.99927901 -1.99915652 -0.99967536]\n"
          ]
        },
        {
          "output_type": "stream",
          "name": "stderr",
          "text": [
            "/usr/local/lib/python3.7/dist-packages/sklearn/neural_network/_multilayer_perceptron.py:696: ConvergenceWarning: Stochastic Optimizer: Maximum iterations (100000) reached and the optimization hasn't converged yet.\n",
            "  ConvergenceWarning,\n"
          ]
        }
      ],
      "source": [
        "# 2. Training of the regressors\n",
        "\n",
        "# Linear Regression\n",
        "clf_line = LinearRegression()\n",
        "\n",
        "# 2. Fit the classifier with the training data\n",
        "clf_line.fit(X, Y)\n",
        "\n",
        "# 3. Predict the y given X\n",
        "y_pred = clf_line.predict(X)\n",
        "\n",
        "# 4. Calculate accuracy\n",
        "r2 = r2_score(Y, y_pred)\n",
        "print(f\"R^2 for Linear Regression classification: {r2}\")\n",
        "\n",
        "# MLP Regressor\n",
        "# MLP (2,1)\n",
        "clf_mlp = MLPRegressor(random_state=1, hidden_layer_sizes=(2,2,), solver='sgd', activation='logistic', learning_rate_init=0.01, max_iter=100000, n_iter_no_change=100000)\n",
        "\n",
        "# 2. Fit the classifier with the training data\n",
        "clf_mlp.fit(X, Y)\n",
        "\n",
        "# 3. Predict the y given X\n",
        "y_pred = clf_mlp.predict(X)\n",
        "\n",
        "# 4. Calculate R^2\n",
        "r2 = r2_score(Y, y_pred)\n",
        "print(f\"R^2 for MLP Regression: {r2}\")\n",
        "print(y_pred)\n"
      ]
    },
    {
      "cell_type": "code",
      "execution_count": 35,
      "metadata": {
        "colab": {
          "base_uri": "https://localhost:8080/",
          "height": 336
        },
        "id": "N3VDOby8BEzn",
        "outputId": "428aa2f6-6764-4f0f-c9a7-a36dbdc2ffe2"
      },
      "outputs": [
        {
          "output_type": "display_data",
          "data": {
            "text/plain": [
              "<Figure size 432x288 with 1 Axes>"
            ],
            "image/png": "[encoded data removed]"
          },
          "metadata": {
            "needs_background": "light"
          }
        },
        {
          "output_type": "display_data",
          "data": {
            "text/plain": [
              "<Figure size 432x288 with 0 Axes>"
            ]
          },
          "metadata": {}
        }
      ],
      "source": [
        "# 3. Plotting of classifier result (no need for testing)\n",
        "\n",
        "from mpl_toolkits.mplot3d import Axes3D\n",
        "fig = plt.figure()\n",
        "ax = Axes3D(fig)\n",
        "ax.scatter(X[:,0],X[:,1],Y)\n",
        "plt.show()\n",
        "plt.clf()"
      ]
    },
    {
      "cell_type": "code",
      "execution_count": 35,
      "metadata": {
        "id": "8IGe789arQJ9"
      },
      "outputs": [],
      "source": [
        ""
      ]
    }
  ],
  "metadata": {
    "colab": {
      "collapsed_sections": [],
      "name": "Notebook_Cas_de_Tests_pour_le_rendu_2.ipynb",
      "provenance": []
    },
    "kernelspec": {
      "display_name": "Python 3.10.4 ('venv': venv)",
      "language": "python",
      "name": "python3"
    },
    "language_info": {
      "codemirror_mode": {
        "name": "ipython",
        "version": 3
      },
      "file_extension": ".py",
      "mimetype": "text/x-python",
      "name": "python",
      "nbconvert_exporter": "python",
      "pygments_lexer": "ipython3",
      "version": "3.10.4"
    },
    "vscode": {
      "interpreter": {
        "hash": "268a2b46a2a1fd7cf1d0a6e4207746d31a1df269f74a36b08244a1a810a7653e"
      }
    }
  },
  "nbformat": 4,
  "nbformat_minor": 0
}